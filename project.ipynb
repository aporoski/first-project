{
 "cells": [
  {
   "cell_type": "markdown",
   "id": "853a101a",
   "metadata": {
    "deletable": false,
    "editable": false,
    "id": "c81daeeb"
   },
   "source": [
    "# Исследование надежности заемщиков\n"
   ]
  },
  {
   "cell_type": "markdown",
   "id": "bd227d1d",
   "metadata": {
    "deletable": false,
    "editable": false,
    "id": "827c20bf"
   },
   "source": [
    "Во второй части проекта вы выполните шаги 3 и 4. Их вручную проверит ревьюер.\n",
    "Чтобы вам не пришлось писать код заново для шагов 1 и 2, мы добавили авторские решения в ячейки с кодом. \n",
    "\n"
   ]
  },
  {
   "cell_type": "markdown",
   "id": "310346dd",
   "metadata": {
    "deletable": false,
    "editable": false,
    "id": "744d7639"
   },
   "source": [
    "## Откройте таблицу и изучите общую информацию о данных"
   ]
  },
  {
   "cell_type": "markdown",
   "id": "0a3d3ea2",
   "metadata": {
    "deletable": false,
    "editable": false,
    "id": "e7a14c31"
   },
   "source": [
    "**Задание 1. Импортируйте библиотеку pandas. Считайте данные из csv-файла в датафрейм и сохраните в переменную `data`. Путь к файлу:**\n",
    "\n",
    "`/datasets/data.csv`"
   ]
  },
  {
   "cell_type": "code",
   "execution_count": 1,
   "id": "4b135b2b",
   "metadata": {
    "deletable": false,
    "id": "7bcf75c9"
   },
   "outputs": [],
   "source": [
    "import pandas as pd\n",
    "\n",
    "try:\n",
    "    data = pd.read_csv('/datasets/data.csv')\n",
    "except:\n",
    "    data = pd.read_csv('https://code.s3.yandex.net/datasets/data.csv')"
   ]
  },
  {
   "cell_type": "markdown",
   "id": "a86cf75f",
   "metadata": {
    "deletable": false,
    "editable": false,
    "id": "b8038fe3"
   },
   "source": [
    "**Задание 2. Выведите первые 20 строчек датафрейма `data` на экран.**"
   ]
  },
  {
   "cell_type": "code",
   "execution_count": 2,
   "id": "18e68667",
   "metadata": {
    "deletable": false,
    "id": "2a7cab99",
    "outputId": "1a8f3ef2-d323-4ec2-ddf7-89670b5944c4"
   },
   "outputs": [
    {
     "data": {
      "text/html": [
       "<div>\n",
       "<style scoped>\n",
       "    .dataframe tbody tr th:only-of-type {\n",
       "        vertical-align: middle;\n",
       "    }\n",
       "\n",
       "    .dataframe tbody tr th {\n",
       "        vertical-align: top;\n",
       "    }\n",
       "\n",
       "    .dataframe thead th {\n",
       "        text-align: right;\n",
       "    }\n",
       "</style>\n",
       "<table border=\"1\" class=\"dataframe\">\n",
       "  <thead>\n",
       "    <tr style=\"text-align: right;\">\n",
       "      <th></th>\n",
       "      <th>children</th>\n",
       "      <th>days_employed</th>\n",
       "      <th>dob_years</th>\n",
       "      <th>education</th>\n",
       "      <th>education_id</th>\n",
       "      <th>family_status</th>\n",
       "      <th>family_status_id</th>\n",
       "      <th>gender</th>\n",
       "      <th>income_type</th>\n",
       "      <th>debt</th>\n",
       "      <th>total_income</th>\n",
       "      <th>purpose</th>\n",
       "    </tr>\n",
       "  </thead>\n",
       "  <tbody>\n",
       "    <tr>\n",
       "      <th>0</th>\n",
       "      <td>1</td>\n",
       "      <td>-8437.673028</td>\n",
       "      <td>42</td>\n",
       "      <td>высшее</td>\n",
       "      <td>0</td>\n",
       "      <td>женат / замужем</td>\n",
       "      <td>0</td>\n",
       "      <td>F</td>\n",
       "      <td>сотрудник</td>\n",
       "      <td>0</td>\n",
       "      <td>253875.639453</td>\n",
       "      <td>покупка жилья</td>\n",
       "    </tr>\n",
       "    <tr>\n",
       "      <th>1</th>\n",
       "      <td>1</td>\n",
       "      <td>-4024.803754</td>\n",
       "      <td>36</td>\n",
       "      <td>среднее</td>\n",
       "      <td>1</td>\n",
       "      <td>женат / замужем</td>\n",
       "      <td>0</td>\n",
       "      <td>F</td>\n",
       "      <td>сотрудник</td>\n",
       "      <td>0</td>\n",
       "      <td>112080.014102</td>\n",
       "      <td>приобретение автомобиля</td>\n",
       "    </tr>\n",
       "    <tr>\n",
       "      <th>2</th>\n",
       "      <td>0</td>\n",
       "      <td>-5623.422610</td>\n",
       "      <td>33</td>\n",
       "      <td>Среднее</td>\n",
       "      <td>1</td>\n",
       "      <td>женат / замужем</td>\n",
       "      <td>0</td>\n",
       "      <td>M</td>\n",
       "      <td>сотрудник</td>\n",
       "      <td>0</td>\n",
       "      <td>145885.952297</td>\n",
       "      <td>покупка жилья</td>\n",
       "    </tr>\n",
       "    <tr>\n",
       "      <th>3</th>\n",
       "      <td>3</td>\n",
       "      <td>-4124.747207</td>\n",
       "      <td>32</td>\n",
       "      <td>среднее</td>\n",
       "      <td>1</td>\n",
       "      <td>женат / замужем</td>\n",
       "      <td>0</td>\n",
       "      <td>M</td>\n",
       "      <td>сотрудник</td>\n",
       "      <td>0</td>\n",
       "      <td>267628.550329</td>\n",
       "      <td>дополнительное образование</td>\n",
       "    </tr>\n",
       "    <tr>\n",
       "      <th>4</th>\n",
       "      <td>0</td>\n",
       "      <td>340266.072047</td>\n",
       "      <td>53</td>\n",
       "      <td>среднее</td>\n",
       "      <td>1</td>\n",
       "      <td>гражданский брак</td>\n",
       "      <td>1</td>\n",
       "      <td>F</td>\n",
       "      <td>пенсионер</td>\n",
       "      <td>0</td>\n",
       "      <td>158616.077870</td>\n",
       "      <td>сыграть свадьбу</td>\n",
       "    </tr>\n",
       "    <tr>\n",
       "      <th>5</th>\n",
       "      <td>0</td>\n",
       "      <td>-926.185831</td>\n",
       "      <td>27</td>\n",
       "      <td>высшее</td>\n",
       "      <td>0</td>\n",
       "      <td>гражданский брак</td>\n",
       "      <td>1</td>\n",
       "      <td>M</td>\n",
       "      <td>компаньон</td>\n",
       "      <td>0</td>\n",
       "      <td>255763.565419</td>\n",
       "      <td>покупка жилья</td>\n",
       "    </tr>\n",
       "    <tr>\n",
       "      <th>6</th>\n",
       "      <td>0</td>\n",
       "      <td>-2879.202052</td>\n",
       "      <td>43</td>\n",
       "      <td>высшее</td>\n",
       "      <td>0</td>\n",
       "      <td>женат / замужем</td>\n",
       "      <td>0</td>\n",
       "      <td>F</td>\n",
       "      <td>компаньон</td>\n",
       "      <td>0</td>\n",
       "      <td>240525.971920</td>\n",
       "      <td>операции с жильем</td>\n",
       "    </tr>\n",
       "    <tr>\n",
       "      <th>7</th>\n",
       "      <td>0</td>\n",
       "      <td>-152.779569</td>\n",
       "      <td>50</td>\n",
       "      <td>СРЕДНЕЕ</td>\n",
       "      <td>1</td>\n",
       "      <td>женат / замужем</td>\n",
       "      <td>0</td>\n",
       "      <td>M</td>\n",
       "      <td>сотрудник</td>\n",
       "      <td>0</td>\n",
       "      <td>135823.934197</td>\n",
       "      <td>образование</td>\n",
       "    </tr>\n",
       "    <tr>\n",
       "      <th>8</th>\n",
       "      <td>2</td>\n",
       "      <td>-6929.865299</td>\n",
       "      <td>35</td>\n",
       "      <td>ВЫСШЕЕ</td>\n",
       "      <td>0</td>\n",
       "      <td>гражданский брак</td>\n",
       "      <td>1</td>\n",
       "      <td>F</td>\n",
       "      <td>сотрудник</td>\n",
       "      <td>0</td>\n",
       "      <td>95856.832424</td>\n",
       "      <td>на проведение свадьбы</td>\n",
       "    </tr>\n",
       "    <tr>\n",
       "      <th>9</th>\n",
       "      <td>0</td>\n",
       "      <td>-2188.756445</td>\n",
       "      <td>41</td>\n",
       "      <td>среднее</td>\n",
       "      <td>1</td>\n",
       "      <td>женат / замужем</td>\n",
       "      <td>0</td>\n",
       "      <td>M</td>\n",
       "      <td>сотрудник</td>\n",
       "      <td>0</td>\n",
       "      <td>144425.938277</td>\n",
       "      <td>покупка жилья для семьи</td>\n",
       "    </tr>\n",
       "    <tr>\n",
       "      <th>10</th>\n",
       "      <td>2</td>\n",
       "      <td>-4171.483647</td>\n",
       "      <td>36</td>\n",
       "      <td>высшее</td>\n",
       "      <td>0</td>\n",
       "      <td>женат / замужем</td>\n",
       "      <td>0</td>\n",
       "      <td>M</td>\n",
       "      <td>компаньон</td>\n",
       "      <td>0</td>\n",
       "      <td>113943.491460</td>\n",
       "      <td>покупка недвижимости</td>\n",
       "    </tr>\n",
       "    <tr>\n",
       "      <th>11</th>\n",
       "      <td>0</td>\n",
       "      <td>-792.701887</td>\n",
       "      <td>40</td>\n",
       "      <td>среднее</td>\n",
       "      <td>1</td>\n",
       "      <td>женат / замужем</td>\n",
       "      <td>0</td>\n",
       "      <td>F</td>\n",
       "      <td>сотрудник</td>\n",
       "      <td>0</td>\n",
       "      <td>77069.234271</td>\n",
       "      <td>покупка коммерческой недвижимости</td>\n",
       "    </tr>\n",
       "    <tr>\n",
       "      <th>12</th>\n",
       "      <td>0</td>\n",
       "      <td>NaN</td>\n",
       "      <td>65</td>\n",
       "      <td>среднее</td>\n",
       "      <td>1</td>\n",
       "      <td>гражданский брак</td>\n",
       "      <td>1</td>\n",
       "      <td>M</td>\n",
       "      <td>пенсионер</td>\n",
       "      <td>0</td>\n",
       "      <td>NaN</td>\n",
       "      <td>сыграть свадьбу</td>\n",
       "    </tr>\n",
       "    <tr>\n",
       "      <th>13</th>\n",
       "      <td>0</td>\n",
       "      <td>-1846.641941</td>\n",
       "      <td>54</td>\n",
       "      <td>неоконченное высшее</td>\n",
       "      <td>2</td>\n",
       "      <td>женат / замужем</td>\n",
       "      <td>0</td>\n",
       "      <td>F</td>\n",
       "      <td>сотрудник</td>\n",
       "      <td>0</td>\n",
       "      <td>130458.228857</td>\n",
       "      <td>приобретение автомобиля</td>\n",
       "    </tr>\n",
       "    <tr>\n",
       "      <th>14</th>\n",
       "      <td>0</td>\n",
       "      <td>-1844.956182</td>\n",
       "      <td>56</td>\n",
       "      <td>высшее</td>\n",
       "      <td>0</td>\n",
       "      <td>гражданский брак</td>\n",
       "      <td>1</td>\n",
       "      <td>F</td>\n",
       "      <td>компаньон</td>\n",
       "      <td>1</td>\n",
       "      <td>165127.911772</td>\n",
       "      <td>покупка жилой недвижимости</td>\n",
       "    </tr>\n",
       "    <tr>\n",
       "      <th>15</th>\n",
       "      <td>1</td>\n",
       "      <td>-972.364419</td>\n",
       "      <td>26</td>\n",
       "      <td>среднее</td>\n",
       "      <td>1</td>\n",
       "      <td>женат / замужем</td>\n",
       "      <td>0</td>\n",
       "      <td>F</td>\n",
       "      <td>сотрудник</td>\n",
       "      <td>0</td>\n",
       "      <td>116820.904450</td>\n",
       "      <td>строительство собственной недвижимости</td>\n",
       "    </tr>\n",
       "    <tr>\n",
       "      <th>16</th>\n",
       "      <td>0</td>\n",
       "      <td>-1719.934226</td>\n",
       "      <td>35</td>\n",
       "      <td>среднее</td>\n",
       "      <td>1</td>\n",
       "      <td>женат / замужем</td>\n",
       "      <td>0</td>\n",
       "      <td>F</td>\n",
       "      <td>сотрудник</td>\n",
       "      <td>0</td>\n",
       "      <td>289202.704229</td>\n",
       "      <td>недвижимость</td>\n",
       "    </tr>\n",
       "    <tr>\n",
       "      <th>17</th>\n",
       "      <td>0</td>\n",
       "      <td>-2369.999720</td>\n",
       "      <td>33</td>\n",
       "      <td>высшее</td>\n",
       "      <td>0</td>\n",
       "      <td>гражданский брак</td>\n",
       "      <td>1</td>\n",
       "      <td>M</td>\n",
       "      <td>сотрудник</td>\n",
       "      <td>0</td>\n",
       "      <td>90410.586745</td>\n",
       "      <td>строительство недвижимости</td>\n",
       "    </tr>\n",
       "    <tr>\n",
       "      <th>18</th>\n",
       "      <td>0</td>\n",
       "      <td>400281.136913</td>\n",
       "      <td>53</td>\n",
       "      <td>среднее</td>\n",
       "      <td>1</td>\n",
       "      <td>вдовец / вдова</td>\n",
       "      <td>2</td>\n",
       "      <td>F</td>\n",
       "      <td>пенсионер</td>\n",
       "      <td>0</td>\n",
       "      <td>56823.777243</td>\n",
       "      <td>на покупку подержанного автомобиля</td>\n",
       "    </tr>\n",
       "    <tr>\n",
       "      <th>19</th>\n",
       "      <td>0</td>\n",
       "      <td>-10038.818549</td>\n",
       "      <td>48</td>\n",
       "      <td>СРЕДНЕЕ</td>\n",
       "      <td>1</td>\n",
       "      <td>в разводе</td>\n",
       "      <td>3</td>\n",
       "      <td>F</td>\n",
       "      <td>сотрудник</td>\n",
       "      <td>0</td>\n",
       "      <td>242831.107982</td>\n",
       "      <td>на покупку своего автомобиля</td>\n",
       "    </tr>\n",
       "  </tbody>\n",
       "</table>\n",
       "</div>"
      ],
      "text/plain": [
       "    children  days_employed  dob_years            education  education_id  \\\n",
       "0          1   -8437.673028         42               высшее             0   \n",
       "1          1   -4024.803754         36              среднее             1   \n",
       "2          0   -5623.422610         33              Среднее             1   \n",
       "3          3   -4124.747207         32              среднее             1   \n",
       "4          0  340266.072047         53              среднее             1   \n",
       "5          0    -926.185831         27               высшее             0   \n",
       "6          0   -2879.202052         43               высшее             0   \n",
       "7          0    -152.779569         50              СРЕДНЕЕ             1   \n",
       "8          2   -6929.865299         35               ВЫСШЕЕ             0   \n",
       "9          0   -2188.756445         41              среднее             1   \n",
       "10         2   -4171.483647         36               высшее             0   \n",
       "11         0    -792.701887         40              среднее             1   \n",
       "12         0            NaN         65              среднее             1   \n",
       "13         0   -1846.641941         54  неоконченное высшее             2   \n",
       "14         0   -1844.956182         56               высшее             0   \n",
       "15         1    -972.364419         26              среднее             1   \n",
       "16         0   -1719.934226         35              среднее             1   \n",
       "17         0   -2369.999720         33               высшее             0   \n",
       "18         0  400281.136913         53              среднее             1   \n",
       "19         0  -10038.818549         48              СРЕДНЕЕ             1   \n",
       "\n",
       "       family_status  family_status_id gender income_type  debt  \\\n",
       "0    женат / замужем                 0      F   сотрудник     0   \n",
       "1    женат / замужем                 0      F   сотрудник     0   \n",
       "2    женат / замужем                 0      M   сотрудник     0   \n",
       "3    женат / замужем                 0      M   сотрудник     0   \n",
       "4   гражданский брак                 1      F   пенсионер     0   \n",
       "5   гражданский брак                 1      M   компаньон     0   \n",
       "6    женат / замужем                 0      F   компаньон     0   \n",
       "7    женат / замужем                 0      M   сотрудник     0   \n",
       "8   гражданский брак                 1      F   сотрудник     0   \n",
       "9    женат / замужем                 0      M   сотрудник     0   \n",
       "10   женат / замужем                 0      M   компаньон     0   \n",
       "11   женат / замужем                 0      F   сотрудник     0   \n",
       "12  гражданский брак                 1      M   пенсионер     0   \n",
       "13   женат / замужем                 0      F   сотрудник     0   \n",
       "14  гражданский брак                 1      F   компаньон     1   \n",
       "15   женат / замужем                 0      F   сотрудник     0   \n",
       "16   женат / замужем                 0      F   сотрудник     0   \n",
       "17  гражданский брак                 1      M   сотрудник     0   \n",
       "18    вдовец / вдова                 2      F   пенсионер     0   \n",
       "19         в разводе                 3      F   сотрудник     0   \n",
       "\n",
       "     total_income                                 purpose  \n",
       "0   253875.639453                           покупка жилья  \n",
       "1   112080.014102                 приобретение автомобиля  \n",
       "2   145885.952297                           покупка жилья  \n",
       "3   267628.550329              дополнительное образование  \n",
       "4   158616.077870                         сыграть свадьбу  \n",
       "5   255763.565419                           покупка жилья  \n",
       "6   240525.971920                       операции с жильем  \n",
       "7   135823.934197                             образование  \n",
       "8    95856.832424                   на проведение свадьбы  \n",
       "9   144425.938277                 покупка жилья для семьи  \n",
       "10  113943.491460                    покупка недвижимости  \n",
       "11   77069.234271       покупка коммерческой недвижимости  \n",
       "12            NaN                         сыграть свадьбу  \n",
       "13  130458.228857                 приобретение автомобиля  \n",
       "14  165127.911772              покупка жилой недвижимости  \n",
       "15  116820.904450  строительство собственной недвижимости  \n",
       "16  289202.704229                            недвижимость  \n",
       "17   90410.586745              строительство недвижимости  \n",
       "18   56823.777243      на покупку подержанного автомобиля  \n",
       "19  242831.107982            на покупку своего автомобиля  "
      ]
     },
     "execution_count": 2,
     "metadata": {},
     "output_type": "execute_result"
    }
   ],
   "source": [
    "data.head(20)"
   ]
  },
  {
   "cell_type": "markdown",
   "id": "e7d3f7df",
   "metadata": {
    "deletable": false,
    "editable": false,
    "id": "1c12e233"
   },
   "source": [
    "**Задание 3. Выведите основную информацию о датафрейме с помощью метода `info()`.**"
   ]
  },
  {
   "cell_type": "code",
   "execution_count": 3,
   "id": "f4d4a178",
   "metadata": {
    "deletable": false,
    "id": "2b757bca",
    "outputId": "15376089-8dad-46c9-b520-c05248d43158"
   },
   "outputs": [
    {
     "name": "stdout",
     "output_type": "stream",
     "text": [
      "<class 'pandas.core.frame.DataFrame'>\n",
      "RangeIndex: 21525 entries, 0 to 21524\n",
      "Data columns (total 12 columns):\n",
      " #   Column            Non-Null Count  Dtype  \n",
      "---  ------            --------------  -----  \n",
      " 0   children          21525 non-null  int64  \n",
      " 1   days_employed     19351 non-null  float64\n",
      " 2   dob_years         21525 non-null  int64  \n",
      " 3   education         21525 non-null  object \n",
      " 4   education_id      21525 non-null  int64  \n",
      " 5   family_status     21525 non-null  object \n",
      " 6   family_status_id  21525 non-null  int64  \n",
      " 7   gender            21525 non-null  object \n",
      " 8   income_type       21525 non-null  object \n",
      " 9   debt              21525 non-null  int64  \n",
      " 10  total_income      19351 non-null  float64\n",
      " 11  purpose           21525 non-null  object \n",
      "dtypes: float64(2), int64(5), object(5)\n",
      "memory usage: 2.0+ MB\n"
     ]
    }
   ],
   "source": [
    "data.info()"
   ]
  },
  {
   "cell_type": "markdown",
   "id": "8f61c931",
   "metadata": {
    "deletable": false,
    "editable": false,
    "id": "333ec665"
   },
   "source": [
    "## Предобработка данных"
   ]
  },
  {
   "cell_type": "markdown",
   "id": "8b7369ea",
   "metadata": {
    "deletable": false,
    "editable": false,
    "id": "02d92d53"
   },
   "source": [
    "### Удаление пропусков"
   ]
  },
  {
   "cell_type": "markdown",
   "id": "5fe12b57",
   "metadata": {
    "deletable": false,
    "editable": false,
    "id": "cd84967c"
   },
   "source": [
    "**Задание 4. Выведите количество пропущенных значений для каждого столбца. Используйте комбинацию двух методов.**"
   ]
  },
  {
   "cell_type": "code",
   "execution_count": 4,
   "id": "4bb3e7d9",
   "metadata": {
    "deletable": false,
    "id": "7f9b2309",
    "outputId": "81f4d817-781c-465c-ed15-91ce4446810d",
    "scrolled": true
   },
   "outputs": [
    {
     "data": {
      "text/plain": [
       "children               0\n",
       "days_employed       2174\n",
       "dob_years              0\n",
       "education              0\n",
       "education_id           0\n",
       "family_status          0\n",
       "family_status_id       0\n",
       "gender                 0\n",
       "income_type            0\n",
       "debt                   0\n",
       "total_income        2174\n",
       "purpose                0\n",
       "dtype: int64"
      ]
     },
     "execution_count": 4,
     "metadata": {},
     "output_type": "execute_result"
    }
   ],
   "source": [
    "data.isna().sum()"
   ]
  },
  {
   "cell_type": "markdown",
   "id": "8194e026",
   "metadata": {
    "deletable": false,
    "editable": false,
    "id": "db86e27b"
   },
   "source": [
    "**Задание 5. В двух столбцах есть пропущенные значения. Один из них — `days_employed`. Пропуски в этом столбце вы обработаете на следующем этапе. Другой столбец с пропущенными значениями — `total_income` — хранит данные о доходах. На сумму дохода сильнее всего влияет тип занятости, поэтому заполнить пропуски в этом столбце нужно медианным значением по каждому типу из столбца `income_type`. Например, у человека с типом занятости `сотрудник` пропуск в столбце `total_income` должен быть заполнен медианным доходом среди всех записей с тем же типом.**"
   ]
  },
  {
   "cell_type": "code",
   "execution_count": 5,
   "id": "e67a1dc9",
   "metadata": {
    "deletable": false,
    "id": "42006a93"
   },
   "outputs": [],
   "source": [
    "for t in data['income_type'].unique():\n",
    "    data.loc[(data['income_type'] == t) & (data['total_income'].isna()), 'total_income'] = \\\n",
    "    data.loc[(data['income_type'] == t), 'total_income'].median()"
   ]
  },
  {
   "cell_type": "markdown",
   "id": "ac35f095",
   "metadata": {
    "deletable": false,
    "editable": false,
    "id": "89da5ece"
   },
   "source": [
    "### Обработка аномальных значений"
   ]
  },
  {
   "cell_type": "markdown",
   "id": "8882dcfd",
   "metadata": {
    "deletable": false,
    "editable": false,
    "id": "57964554"
   },
   "source": [
    "**Задание 6. В данных могут встречаться артефакты (аномалии) — значения, которые не отражают действительность и появились по какой-то ошибке. таким артефактом будет отрицательное количество дней трудового стажа в столбце `days_employed`. Для реальных данных это нормально. Обработайте значения в этом столбце: замените все отрицательные значения положительными с помощью метода `abs()`.**"
   ]
  },
  {
   "cell_type": "code",
   "execution_count": 6,
   "id": "dddde8dd",
   "metadata": {
    "deletable": false,
    "id": "f6f055bf"
   },
   "outputs": [],
   "source": [
    "data['days_employed'] = data['days_employed'].abs()"
   ]
  },
  {
   "cell_type": "markdown",
   "id": "ed4f04e2",
   "metadata": {
    "deletable": false,
    "editable": false,
    "id": "6107dd2f"
   },
   "source": [
    "**Задание 7. Для каждого типа занятости выведите медианное значение трудового стажа `days_employed` в днях.**"
   ]
  },
  {
   "cell_type": "code",
   "execution_count": 7,
   "id": "3eadf451",
   "metadata": {
    "deletable": false,
    "id": "85a5faf6",
    "outputId": "801ef80e-522b-4668-f34e-565af7432bcf"
   },
   "outputs": [
    {
     "data": {
      "text/plain": [
       "income_type\n",
       "безработный        366413.652744\n",
       "в декрете            3296.759962\n",
       "госслужащий          2689.368353\n",
       "компаньон            1547.382223\n",
       "пенсионер          365213.306266\n",
       "предприниматель       520.848083\n",
       "сотрудник            1574.202821\n",
       "студент               578.751554\n",
       "Name: days_employed, dtype: float64"
      ]
     },
     "execution_count": 7,
     "metadata": {},
     "output_type": "execute_result"
    }
   ],
   "source": [
    "data.groupby('income_type')['days_employed'].agg('median')"
   ]
  },
  {
   "cell_type": "markdown",
   "id": "6343c0ed",
   "metadata": {
    "deletable": false,
    "editable": false,
    "id": "38d1a030"
   },
   "source": [
    "У двух типов (безработные и пенсионеры) получатся аномально большие значения. Исправить такие значения сложно, поэтому оставьте их как есть. Тем более этот столбец не понадобится вам для исследования."
   ]
  },
  {
   "cell_type": "markdown",
   "id": "3c557ec2",
   "metadata": {
    "deletable": false,
    "editable": false,
    "id": "d8a9f147"
   },
   "source": [
    "**Задание 8. Выведите перечень уникальных значений столбца `children`.**"
   ]
  },
  {
   "cell_type": "code",
   "execution_count": 8,
   "id": "013e1113",
   "metadata": {
    "deletable": false,
    "id": "ef5056eb",
    "outputId": "6975b15c-7f95-4697-d16d-a0c79b657b03"
   },
   "outputs": [
    {
     "data": {
      "text/plain": [
       "array([ 1,  0,  3,  2, -1,  4, 20,  5], dtype=int64)"
      ]
     },
     "execution_count": 8,
     "metadata": {},
     "output_type": "execute_result"
    }
   ],
   "source": [
    "data['children'].unique()"
   ]
  },
  {
   "cell_type": "markdown",
   "id": "877aeca7",
   "metadata": {
    "deletable": false,
    "editable": false,
    "id": "40b9ebf2"
   },
   "source": [
    "**Задание 9. В столбце `children` есть два аномальных значения. Удалите строки, в которых встречаются такие аномальные значения из датафрейма `data`.**"
   ]
  },
  {
   "cell_type": "code",
   "execution_count": 9,
   "id": "74373109",
   "metadata": {
    "deletable": false,
    "id": "3ff9801d"
   },
   "outputs": [],
   "source": [
    "data = data[(data['children'] != -1) & (data['children'] != 20)]"
   ]
  },
  {
   "cell_type": "markdown",
   "id": "43c9e7ea",
   "metadata": {
    "deletable": false,
    "editable": false,
    "id": "bbc4d0ce"
   },
   "source": [
    "**Задание 10. Ещё раз выведите перечень уникальных значений столбца `children`, чтобы убедиться, что артефакты удалены.**"
   ]
  },
  {
   "cell_type": "code",
   "execution_count": 10,
   "id": "4cda3421",
   "metadata": {
    "deletable": false,
    "id": "ad4fa8b7",
    "outputId": "b2097101-d49d-44d9-901b-32a65c9463d1"
   },
   "outputs": [
    {
     "data": {
      "text/plain": [
       "array([1, 0, 3, 2, 4, 5], dtype=int64)"
      ]
     },
     "execution_count": 10,
     "metadata": {},
     "output_type": "execute_result"
    }
   ],
   "source": [
    "data['children'].unique()"
   ]
  },
  {
   "cell_type": "markdown",
   "id": "c37fce32",
   "metadata": {
    "deletable": false,
    "editable": false,
    "id": "75440b63"
   },
   "source": [
    "### Удаление пропусков (продолжение)"
   ]
  },
  {
   "cell_type": "markdown",
   "id": "5e4cb9a0",
   "metadata": {
    "deletable": false,
    "editable": false,
    "id": "f4ea573f"
   },
   "source": [
    "**Задание 11. Заполните пропуски в столбце `days_employed` медианными значениями по каждого типа занятости `income_type`.**"
   ]
  },
  {
   "cell_type": "code",
   "execution_count": 11,
   "id": "0d784991",
   "metadata": {
    "deletable": false,
    "id": "af6b1a7e"
   },
   "outputs": [],
   "source": [
    "for t in data['income_type'].unique():\n",
    "    data.loc[(data['income_type'] == t) & (data['days_employed'].isna()), 'days_employed'] = \\\n",
    "    data.loc[(data['income_type'] == t), 'days_employed'].median()"
   ]
  },
  {
   "cell_type": "markdown",
   "id": "cc4475db",
   "metadata": {
    "deletable": false,
    "editable": false,
    "id": "2753f40d"
   },
   "source": [
    "**Задание 12. Убедитесь, что все пропуски заполнены. Проверьте себя и ещё раз выведите количество пропущенных значений для каждого столбца с помощью двух методов.**"
   ]
  },
  {
   "cell_type": "code",
   "execution_count": 12,
   "id": "4cc1d520",
   "metadata": {
    "deletable": false,
    "id": "55f78bc2",
    "outputId": "8da1e4e1-358e-4e87-98c9-f261bce0a7b2"
   },
   "outputs": [
    {
     "data": {
      "text/plain": [
       "children            0\n",
       "days_employed       0\n",
       "dob_years           0\n",
       "education           0\n",
       "education_id        0\n",
       "family_status       0\n",
       "family_status_id    0\n",
       "gender              0\n",
       "income_type         0\n",
       "debt                0\n",
       "total_income        0\n",
       "purpose             0\n",
       "dtype: int64"
      ]
     },
     "execution_count": 12,
     "metadata": {},
     "output_type": "execute_result"
    }
   ],
   "source": [
    "data.isna().sum()"
   ]
  },
  {
   "cell_type": "markdown",
   "id": "fb3ec784",
   "metadata": {
    "deletable": false,
    "editable": false,
    "id": "ddc81e43"
   },
   "source": [
    "### Изменение типов данных"
   ]
  },
  {
   "cell_type": "markdown",
   "id": "9ccefc05",
   "metadata": {
    "deletable": false,
    "editable": false,
    "id": "42d19d24"
   },
   "source": [
    "**Задание 13. Замените вещественный тип данных в столбце `total_income` на целочисленный с помощью метода `astype()`.**"
   ]
  },
  {
   "cell_type": "code",
   "execution_count": 13,
   "id": "dc12f8a2",
   "metadata": {
    "deletable": false,
    "id": "920b65ad"
   },
   "outputs": [],
   "source": [
    "data['total_income'] = data['total_income'].astype(int)"
   ]
  },
  {
   "cell_type": "markdown",
   "id": "a329837e",
   "metadata": {
    "deletable": false,
    "editable": false,
    "id": "80c420ba"
   },
   "source": [
    "### Обработка дубликатов"
   ]
  },
  {
   "cell_type": "markdown",
   "id": "401515e2",
   "metadata": {
    "deletable": false,
    "editable": false
   },
   "source": [
    "**Задание 14. Обработайте неявные дубликаты в столбце `education`. В этом столбце есть одни и те же значения, но записанные по-разному: с использованием заглавных и строчных букв. Приведите их к нижнему регистру. Проверьте остальные столбцы.**"
   ]
  },
  {
   "cell_type": "code",
   "execution_count": 14,
   "id": "dd637ae6",
   "metadata": {
    "deletable": false
   },
   "outputs": [],
   "source": [
    "data['education'] = data['education'].str.lower()"
   ]
  },
  {
   "cell_type": "markdown",
   "id": "06ba49d8",
   "metadata": {
    "deletable": false,
    "editable": false,
    "id": "dc587695"
   },
   "source": [
    "**Задание 15. Выведите на экран количество строк-дубликатов в данных. Если такие строки присутствуют, удалите их.**"
   ]
  },
  {
   "cell_type": "code",
   "execution_count": 15,
   "id": "123144e5",
   "metadata": {
    "deletable": false,
    "id": "3ee445e4",
    "outputId": "9684deba-1934-42d1-99e1-cda61740f822"
   },
   "outputs": [
    {
     "data": {
      "text/plain": [
       "71"
      ]
     },
     "execution_count": 15,
     "metadata": {},
     "output_type": "execute_result"
    }
   ],
   "source": [
    "data.duplicated().sum()"
   ]
  },
  {
   "cell_type": "code",
   "execution_count": 16,
   "id": "1444bfd8",
   "metadata": {
    "deletable": false,
    "id": "8575fe05"
   },
   "outputs": [],
   "source": [
    "data = data.drop_duplicates()"
   ]
  },
  {
   "cell_type": "markdown",
   "id": "e66a1cf6",
   "metadata": {
    "deletable": false,
    "editable": false,
    "id": "9904cf55"
   },
   "source": [
    "### Категоризация данных"
   ]
  },
  {
   "cell_type": "markdown",
   "id": "c8b9c13d",
   "metadata": {
    "deletable": false,
    "editable": false,
    "id": "72fcc8a2"
   },
   "source": [
    "**Задание 16. На основании диапазонов, указанных ниже, создайте в датафрейме `data` столбец `total_income_category` с категориями:**\n",
    "\n",
    "- 0–30000 — `'E'`;\n",
    "- 30001–50000 — `'D'`;\n",
    "- 50001–200000 — `'C'`;\n",
    "- 200001–1000000 — `'B'`;\n",
    "- 1000001 и выше — `'A'`.\n",
    "\n",
    "\n",
    "**Например, кредитополучателю с доходом 25000 нужно назначить категорию `'E'`, а клиенту, получающему 235000, — `'B'`. Используйте собственную функцию с именем `categorize_income()` и метод `apply()`.**"
   ]
  },
  {
   "cell_type": "code",
   "execution_count": 17,
   "id": "6a011b1a",
   "metadata": {
    "deletable": false,
    "id": "e1771346"
   },
   "outputs": [],
   "source": [
    "def categorize_income(income):\n",
    "    try:\n",
    "        if 0 <= income <= 30000:\n",
    "            return 'E'\n",
    "        elif 30001 <= income <= 50000:\n",
    "            return 'D'\n",
    "        elif 50001 <= income <= 200000:\n",
    "            return 'C'\n",
    "        elif 200001 <= income <= 1000000:\n",
    "            return 'B'\n",
    "        elif income >= 1000001:\n",
    "            return 'A'\n",
    "    except:\n",
    "        pass"
   ]
  },
  {
   "cell_type": "code",
   "execution_count": 18,
   "id": "40ba023c",
   "metadata": {
    "deletable": false,
    "id": "d5f3586d"
   },
   "outputs": [],
   "source": [
    "data['total_income_category'] = data['total_income'].apply(categorize_income)"
   ]
  },
  {
   "cell_type": "markdown",
   "id": "deea1824",
   "metadata": {
    "deletable": false,
    "editable": false,
    "id": "dde49b5c"
   },
   "source": [
    "**Задание 17. Выведите на экран перечень уникальных целей взятия кредита из столбца `purpose`.**"
   ]
  },
  {
   "cell_type": "code",
   "execution_count": 19,
   "id": "c22d7b24",
   "metadata": {
    "deletable": false,
    "id": "f67ce9b3",
    "outputId": "673c12d9-7d7e-4ae0-9812-c622c89dd244"
   },
   "outputs": [
    {
     "data": {
      "text/plain": [
       "array(['покупка жилья', 'приобретение автомобиля',\n",
       "       'дополнительное образование', 'сыграть свадьбу',\n",
       "       'операции с жильем', 'образование', 'на проведение свадьбы',\n",
       "       'покупка жилья для семьи', 'покупка недвижимости',\n",
       "       'покупка коммерческой недвижимости', 'покупка жилой недвижимости',\n",
       "       'строительство собственной недвижимости', 'недвижимость',\n",
       "       'строительство недвижимости', 'на покупку подержанного автомобиля',\n",
       "       'на покупку своего автомобиля',\n",
       "       'операции с коммерческой недвижимостью',\n",
       "       'строительство жилой недвижимости', 'жилье',\n",
       "       'операции со своей недвижимостью', 'автомобили',\n",
       "       'заняться образованием', 'сделка с подержанным автомобилем',\n",
       "       'получение образования', 'автомобиль', 'свадьба',\n",
       "       'получение дополнительного образования', 'покупка своего жилья',\n",
       "       'операции с недвижимостью', 'получение высшего образования',\n",
       "       'свой автомобиль', 'сделка с автомобилем',\n",
       "       'профильное образование', 'высшее образование',\n",
       "       'покупка жилья для сдачи', 'на покупку автомобиля', 'ремонт жилью',\n",
       "       'заняться высшим образованием'], dtype=object)"
      ]
     },
     "execution_count": 19,
     "metadata": {},
     "output_type": "execute_result"
    }
   ],
   "source": [
    "data['purpose'].unique()"
   ]
  },
  {
   "cell_type": "markdown",
   "id": "f3a16637",
   "metadata": {
    "deletable": false,
    "editable": false,
    "id": "85d0aef0"
   },
   "source": [
    "**Задание 18. Создайте функцию, которая на основании данных из столбца `purpose` сформирует новый столбец `purpose_category`, в который войдут следующие категории:**\n",
    "\n",
    "- `'операции с автомобилем'`,\n",
    "- `'операции с недвижимостью'`,\n",
    "- `'проведение свадьбы'`,\n",
    "- `'получение образования'`.\n",
    "\n",
    "**Например, если в столбце `purpose` находится подстрока `'на покупку автомобиля'`, то в столбце `purpose_category` должна появиться строка `'операции с автомобилем'`.**\n",
    "\n",
    "**Используйте собственную функцию с именем `categorize_purpose()` и метод `apply()`. Изучите данные в столбце `purpose` и определите, какие подстроки помогут вам правильно определить категорию.**"
   ]
  },
  {
   "cell_type": "code",
   "execution_count": 20,
   "id": "eda29e8a",
   "metadata": {
    "deletable": false,
    "id": "e149fab4"
   },
   "outputs": [],
   "source": [
    "def categorize_purpose(row):\n",
    "    try:\n",
    "        if 'автом' in row:\n",
    "            return 'операции с автомобилем'\n",
    "        elif 'жил' in row or 'недвиж' in row:\n",
    "            return 'операции с недвижимостью'\n",
    "        elif 'свад' in row:\n",
    "            return 'проведение свадьбы'\n",
    "        elif 'образов' in row:\n",
    "            return 'получение образования'\n",
    "    except:\n",
    "        return 'нет категории'"
   ]
  },
  {
   "cell_type": "code",
   "execution_count": null,
   "id": "7ea9ee53",
   "metadata": {
    "deletable": false,
    "id": "bf36e69b"
   },
   "outputs": [],
   "source": [
    "data['purpose_category'] = data['purpose'].apply(categorize_purpose)"
   ]
  },
  {
   "cell_type": "markdown",
   "id": "10856912",
   "metadata": {
    "deletable": false,
    "editable": false,
    "id": "09b242bf"
   },
   "source": [
    "### Шаг 3. Исследуйте данные и ответьте на вопросы"
   ]
  },
  {
   "cell_type": "markdown",
   "id": "a8fc7c32",
   "metadata": {
    "deletable": false,
    "editable": false,
    "id": "c5d66278"
   },
   "source": [
    "#### 3.1 Есть ли зависимость между количеством детей и возвратом кредита в срок?"
   ]
  },
  {
   "cell_type": "code",
   "execution_count": 86,
   "id": "7ac5c9ed",
   "metadata": {
    "deletable": false,
    "id": "2cacfc4a",
    "scrolled": false
   },
   "outputs": [
    {
     "data": {
      "text/html": [
       "<div>\n",
       "<style scoped>\n",
       "    .dataframe tbody tr th:only-of-type {\n",
       "        vertical-align: middle;\n",
       "    }\n",
       "\n",
       "    .dataframe tbody tr th {\n",
       "        vertical-align: top;\n",
       "    }\n",
       "\n",
       "    .dataframe thead th {\n",
       "        text-align: right;\n",
       "    }\n",
       "</style>\n",
       "<table border=\"1\" class=\"dataframe\">\n",
       "  <thead>\n",
       "    <tr style=\"text-align: right;\">\n",
       "      <th></th>\n",
       "      <th>non_debt</th>\n",
       "      <th>debt</th>\n",
       "      <th>total</th>\n",
       "      <th>ratio_debt</th>\n",
       "      <th>ratio_non_debt</th>\n",
       "    </tr>\n",
       "    <tr>\n",
       "      <th>children</th>\n",
       "      <th></th>\n",
       "      <th></th>\n",
       "      <th></th>\n",
       "      <th></th>\n",
       "      <th></th>\n",
       "    </tr>\n",
       "  </thead>\n",
       "  <tbody>\n",
       "    <tr>\n",
       "      <th>5</th>\n",
       "      <td>9</td>\n",
       "      <td>0.0</td>\n",
       "      <td>9.0</td>\n",
       "      <td>0.000000</td>\n",
       "      <td>1.000000</td>\n",
       "    </tr>\n",
       "    <tr>\n",
       "      <th>0</th>\n",
       "      <td>13028</td>\n",
       "      <td>1063.0</td>\n",
       "      <td>14091.0</td>\n",
       "      <td>0.075438</td>\n",
       "      <td>0.924562</td>\n",
       "    </tr>\n",
       "    <tr>\n",
       "      <th>3</th>\n",
       "      <td>303</td>\n",
       "      <td>27.0</td>\n",
       "      <td>330.0</td>\n",
       "      <td>0.081818</td>\n",
       "      <td>0.918182</td>\n",
       "    </tr>\n",
       "    <tr>\n",
       "      <th>1</th>\n",
       "      <td>4364</td>\n",
       "      <td>444.0</td>\n",
       "      <td>4808.0</td>\n",
       "      <td>0.092346</td>\n",
       "      <td>0.907654</td>\n",
       "    </tr>\n",
       "    <tr>\n",
       "      <th>2</th>\n",
       "      <td>1858</td>\n",
       "      <td>194.0</td>\n",
       "      <td>2052.0</td>\n",
       "      <td>0.094542</td>\n",
       "      <td>0.905458</td>\n",
       "    </tr>\n",
       "    <tr>\n",
       "      <th>4</th>\n",
       "      <td>37</td>\n",
       "      <td>4.0</td>\n",
       "      <td>41.0</td>\n",
       "      <td>0.097561</td>\n",
       "      <td>0.902439</td>\n",
       "    </tr>\n",
       "  </tbody>\n",
       "</table>\n",
       "</div>"
      ],
      "text/plain": [
       "          non_debt    debt    total  ratio_debt  ratio_non_debt\n",
       "children                                                       \n",
       "5                9     0.0      9.0    0.000000        1.000000\n",
       "0            13028  1063.0  14091.0    0.075438        0.924562\n",
       "3              303    27.0    330.0    0.081818        0.918182\n",
       "1             4364   444.0   4808.0    0.092346        0.907654\n",
       "2             1858   194.0   2052.0    0.094542        0.905458\n",
       "4               37     4.0     41.0    0.097561        0.902439"
      ]
     },
     "execution_count": 86,
     "metadata": {},
     "output_type": "execute_result"
    }
   ],
   "source": [
    "# Ваш код будет здесь. Вы можете создавать новые ячейки.\n",
    "debt_group=data[data['debt']==1] #выделяем группу должников\n",
    "non_debt_group=data[data['debt']==0] #выделяем группу тех кто возвращает кредит в срок\n",
    "debt_total  = debt_group['children'].count() #находим общее количество должников\n",
    "data_grouped=non_debt_group.groupby(['children']).agg({'debt':'count'}).rename(columns={'debt':'non_debt'})\n",
    "data_grouped['debt']=debt_group.groupby(['children']).agg({'debt':'count'})\n",
    "data_grouped['debt']=data_grouped['debt'].fillna(0)\n",
    "data_grouped['total']=data_grouped['debt']+data_grouped['non_debt']\n",
    "data_grouped['ratio_debt']=data_grouped['debt']/data_grouped['total']\n",
    "data_grouped['ratio_non_debt']=data_grouped['non_debt']/data_grouped['total']\n",
    "data_grouped=data_grouped.sort_values('ratio_debt')\n",
    "data_grouped"
   ]
  },
  {
   "cell_type": "markdown",
   "id": "f72e5b05",
   "metadata": {
    "deletable": false,
    "id": "3a6b99ec"
   },
   "source": [
    "**Вывод:**\n",
    "Без детей чаще всего укладываются в сроки оплаты по кредитам - 92.4%, после них с тремя детьми - 91.8%, затем с одним ребенком 90.7%, с двумя - 90.5%, с четырьмя - 90.2%. Для клиентов с пятью детьми слишком малая выборка - всего 9 значений."
   ]
  },
  {
   "cell_type": "markdown",
   "id": "bf9ccfd6",
   "metadata": {
    "deletable": false,
    "editable": false,
    "id": "97be82ca"
   },
   "source": [
    "#### 3.2 Есть ли зависимость между семейным положением и возвратом кредита в срок?"
   ]
  },
  {
   "cell_type": "code",
   "execution_count": null,
   "id": "f3b0ecb5",
   "metadata": {
    "deletable": false,
    "id": "dc3f7ee8"
   },
   "outputs": [],
   "source": [
    "# Ваш код будет здесь. Вы можете создавать новые ячейки"
   ]
  },
  {
   "cell_type": "code",
   "execution_count": 81,
   "id": "7ae2dd2d",
   "metadata": {
    "scrolled": true
   },
   "outputs": [
    {
     "data": {
      "text/html": [
       "<div>\n",
       "<style scoped>\n",
       "    .dataframe tbody tr th:only-of-type {\n",
       "        vertical-align: middle;\n",
       "    }\n",
       "\n",
       "    .dataframe tbody tr th {\n",
       "        vertical-align: top;\n",
       "    }\n",
       "\n",
       "    .dataframe thead th {\n",
       "        text-align: right;\n",
       "    }\n",
       "</style>\n",
       "<table border=\"1\" class=\"dataframe\">\n",
       "  <thead>\n",
       "    <tr style=\"text-align: right;\">\n",
       "      <th></th>\n",
       "      <th>non_debt</th>\n",
       "      <th>debt</th>\n",
       "      <th>total</th>\n",
       "      <th>ratio_debt</th>\n",
       "      <th>ratio_non_debt</th>\n",
       "    </tr>\n",
       "    <tr>\n",
       "      <th>family_status</th>\n",
       "      <th></th>\n",
       "      <th></th>\n",
       "      <th></th>\n",
       "      <th></th>\n",
       "      <th></th>\n",
       "    </tr>\n",
       "  </thead>\n",
       "  <tbody>\n",
       "    <tr>\n",
       "      <th>вдовец / вдова</th>\n",
       "      <td>888</td>\n",
       "      <td>63</td>\n",
       "      <td>951</td>\n",
       "      <td>0.066246</td>\n",
       "      <td>0.933754</td>\n",
       "    </tr>\n",
       "    <tr>\n",
       "      <th>в разводе</th>\n",
       "      <td>1105</td>\n",
       "      <td>84</td>\n",
       "      <td>1189</td>\n",
       "      <td>0.070648</td>\n",
       "      <td>0.929352</td>\n",
       "    </tr>\n",
       "    <tr>\n",
       "      <th>женат / замужем</th>\n",
       "      <td>11334</td>\n",
       "      <td>927</td>\n",
       "      <td>12261</td>\n",
       "      <td>0.075606</td>\n",
       "      <td>0.924394</td>\n",
       "    </tr>\n",
       "    <tr>\n",
       "      <th>гражданский брак</th>\n",
       "      <td>3749</td>\n",
       "      <td>385</td>\n",
       "      <td>4134</td>\n",
       "      <td>0.093130</td>\n",
       "      <td>0.906870</td>\n",
       "    </tr>\n",
       "    <tr>\n",
       "      <th>Не женат / не замужем</th>\n",
       "      <td>2523</td>\n",
       "      <td>273</td>\n",
       "      <td>2796</td>\n",
       "      <td>0.097639</td>\n",
       "      <td>0.902361</td>\n",
       "    </tr>\n",
       "  </tbody>\n",
       "</table>\n",
       "</div>"
      ],
      "text/plain": [
       "                       non_debt  debt  total  ratio_debt  ratio_non_debt\n",
       "family_status                                                           \n",
       "вдовец / вдова              888    63    951    0.066246        0.933754\n",
       "в разводе                  1105    84   1189    0.070648        0.929352\n",
       "женат / замужем           11334   927  12261    0.075606        0.924394\n",
       "гражданский брак           3749   385   4134    0.093130        0.906870\n",
       "Не женат / не замужем      2523   273   2796    0.097639        0.902361"
      ]
     },
     "execution_count": 81,
     "metadata": {},
     "output_type": "execute_result"
    }
   ],
   "source": [
    "debt_total  =debt_group['family_status'].count() #находим общее количество должников\n",
    "data_grouped=non_debt_group.groupby(['family_status']).agg({'debt':'count'}).rename(columns={'debt':'non_debt'})\n",
    "data_grouped['debt']=debt_group.groupby(['family_status']).agg({'debt':'count'})\n",
    "\n",
    "data_grouped['total']=data_grouped['debt']+data_grouped['non_debt']\n",
    "data_grouped['ratio_debt']=data_grouped['debt']/data_grouped['total']\n",
    "data_grouped['ratio_non_debt']=data_grouped['non_debt']/data_grouped['total']\n",
    "data_grouped=data_grouped.sort_values('ratio_debt')\n",
    "data_grouped"
   ]
  },
  {
   "cell_type": "markdown",
   "id": "8edf9245",
   "metadata": {
    "deletable": false,
    "id": "1cef7837"
   },
   "source": [
    "**Вывод:** \"Вдовец/вдова\" чаще других укладываются в сроки по кредитам - в 93.3% случаев, за ними идут \"в разводе\" - 92.9%, \"женат/замужем\" - 92.4%, \"в гражданском браке\" - 90.7%. Реже всех укладываются в срок со статусом \"Не женат/не замужем\" - в 90.2 % случаев.\t     "
   ]
  },
  {
   "cell_type": "markdown",
   "id": "d93bc07a",
   "metadata": {
    "deletable": false,
    "editable": false,
    "id": "1e8b2fca"
   },
   "source": [
    "#### 3.3 Есть ли зависимость между уровнем дохода и возвратом кредита в срок?"
   ]
  },
  {
   "cell_type": "code",
   "execution_count": 83,
   "id": "98a6deb9",
   "metadata": {
    "deletable": false,
    "id": "cd7e3720",
    "scrolled": true
   },
   "outputs": [
    {
     "data": {
      "text/html": [
       "<div>\n",
       "<style scoped>\n",
       "    .dataframe tbody tr th:only-of-type {\n",
       "        vertical-align: middle;\n",
       "    }\n",
       "\n",
       "    .dataframe tbody tr th {\n",
       "        vertical-align: top;\n",
       "    }\n",
       "\n",
       "    .dataframe thead th {\n",
       "        text-align: right;\n",
       "    }\n",
       "</style>\n",
       "<table border=\"1\" class=\"dataframe\">\n",
       "  <thead>\n",
       "    <tr style=\"text-align: right;\">\n",
       "      <th></th>\n",
       "      <th>non_debt</th>\n",
       "      <th>debt</th>\n",
       "      <th>total</th>\n",
       "      <th>ratio_debt</th>\n",
       "      <th>ratio_non_debt</th>\n",
       "    </tr>\n",
       "    <tr>\n",
       "      <th>total_income_category</th>\n",
       "      <th></th>\n",
       "      <th></th>\n",
       "      <th></th>\n",
       "      <th></th>\n",
       "      <th></th>\n",
       "    </tr>\n",
       "  </thead>\n",
       "  <tbody>\n",
       "    <tr>\n",
       "      <th>D</th>\n",
       "      <td>328</td>\n",
       "      <td>21</td>\n",
       "      <td>349</td>\n",
       "      <td>0.060172</td>\n",
       "      <td>0.939828</td>\n",
       "    </tr>\n",
       "    <tr>\n",
       "      <th>B</th>\n",
       "      <td>4660</td>\n",
       "      <td>354</td>\n",
       "      <td>5014</td>\n",
       "      <td>0.070602</td>\n",
       "      <td>0.929398</td>\n",
       "    </tr>\n",
       "    <tr>\n",
       "      <th>A</th>\n",
       "      <td>23</td>\n",
       "      <td>2</td>\n",
       "      <td>25</td>\n",
       "      <td>0.080000</td>\n",
       "      <td>0.920000</td>\n",
       "    </tr>\n",
       "    <tr>\n",
       "      <th>C</th>\n",
       "      <td>14568</td>\n",
       "      <td>1353</td>\n",
       "      <td>15921</td>\n",
       "      <td>0.084982</td>\n",
       "      <td>0.915018</td>\n",
       "    </tr>\n",
       "    <tr>\n",
       "      <th>E</th>\n",
       "      <td>20</td>\n",
       "      <td>2</td>\n",
       "      <td>22</td>\n",
       "      <td>0.090909</td>\n",
       "      <td>0.909091</td>\n",
       "    </tr>\n",
       "  </tbody>\n",
       "</table>\n",
       "</div>"
      ],
      "text/plain": [
       "                       non_debt  debt  total  ratio_debt  ratio_non_debt\n",
       "total_income_category                                                   \n",
       "D                           328    21    349    0.060172        0.939828\n",
       "B                          4660   354   5014    0.070602        0.929398\n",
       "A                            23     2     25    0.080000        0.920000\n",
       "C                         14568  1353  15921    0.084982        0.915018\n",
       "E                            20     2     22    0.090909        0.909091"
      ]
     },
     "execution_count": 83,
     "metadata": {},
     "output_type": "execute_result"
    }
   ],
   "source": [
    "debt_total  =debt_group['total_income_category'].count() #находим общее количество должников\n",
    "data_grouped=non_debt_group.groupby(['total_income_category']).agg({'debt':'count'}).rename(columns={'debt':'non_debt'})\n",
    "data_grouped['debt']=debt_group.groupby(['total_income_category']).agg({'debt':'count'})\n",
    "\n",
    "data_grouped['total']=data_grouped['debt']+data_grouped['non_debt']\n",
    "data_grouped['ratio_debt']=data_grouped['debt']/data_grouped['total']\n",
    "data_grouped['ratio_non_debt']=data_grouped['non_debt']/data_grouped['total']\n",
    "data_grouped=data_grouped.sort_values('ratio_debt')\n",
    "data_grouped"
   ]
  },
  {
   "cell_type": "markdown",
   "id": "fe0991f3",
   "metadata": {
    "deletable": false,
    "id": "e8593def"
   },
   "source": [
    "**Вывод:** Вдовец/вдова чаще других укладываются в сроки оплаты по кредитам - в 93.3% случаев, за ними идут в разводе - 92.9%, женат/замужем - 92.4%, в гражданском браке - 90.7%. Реже всех укладываются в срок со статусом \"Не женат/не замужем\" - в 90.2 % случаев.\t  "
   ]
  },
  {
   "cell_type": "markdown",
   "id": "c22b8ff2",
   "metadata": {
    "deletable": false,
    "editable": false,
    "id": "99ecbd1f"
   },
   "source": [
    "#### 3.4 Как разные цели кредита влияют на его возврат в срок?"
   ]
  },
  {
   "cell_type": "code",
   "execution_count": 84,
   "id": "7e823237",
   "metadata": {
    "deletable": false,
    "id": "2b687290"
   },
   "outputs": [
    {
     "data": {
      "text/html": [
       "<div>\n",
       "<style scoped>\n",
       "    .dataframe tbody tr th:only-of-type {\n",
       "        vertical-align: middle;\n",
       "    }\n",
       "\n",
       "    .dataframe tbody tr th {\n",
       "        vertical-align: top;\n",
       "    }\n",
       "\n",
       "    .dataframe thead th {\n",
       "        text-align: right;\n",
       "    }\n",
       "</style>\n",
       "<table border=\"1\" class=\"dataframe\">\n",
       "  <thead>\n",
       "    <tr style=\"text-align: right;\">\n",
       "      <th></th>\n",
       "      <th>non_debt</th>\n",
       "      <th>debt</th>\n",
       "      <th>total</th>\n",
       "      <th>ratio_debt</th>\n",
       "      <th>ratio_non_debt</th>\n",
       "    </tr>\n",
       "    <tr>\n",
       "      <th>purpose_category</th>\n",
       "      <th></th>\n",
       "      <th></th>\n",
       "      <th></th>\n",
       "      <th></th>\n",
       "      <th></th>\n",
       "    </tr>\n",
       "  </thead>\n",
       "  <tbody>\n",
       "    <tr>\n",
       "      <th>операции с недвижимостью</th>\n",
       "      <td>9971</td>\n",
       "      <td>780</td>\n",
       "      <td>10751</td>\n",
       "      <td>0.072551</td>\n",
       "      <td>0.927449</td>\n",
       "    </tr>\n",
       "    <tr>\n",
       "      <th>проведение свадьбы</th>\n",
       "      <td>2130</td>\n",
       "      <td>183</td>\n",
       "      <td>2313</td>\n",
       "      <td>0.079118</td>\n",
       "      <td>0.920882</td>\n",
       "    </tr>\n",
       "    <tr>\n",
       "      <th>получение образования</th>\n",
       "      <td>3619</td>\n",
       "      <td>369</td>\n",
       "      <td>3988</td>\n",
       "      <td>0.092528</td>\n",
       "      <td>0.907472</td>\n",
       "    </tr>\n",
       "    <tr>\n",
       "      <th>операции с автомобилем</th>\n",
       "      <td>3879</td>\n",
       "      <td>400</td>\n",
       "      <td>4279</td>\n",
       "      <td>0.093480</td>\n",
       "      <td>0.906520</td>\n",
       "    </tr>\n",
       "  </tbody>\n",
       "</table>\n",
       "</div>"
      ],
      "text/plain": [
       "                          non_debt  debt  total  ratio_debt  ratio_non_debt\n",
       "purpose_category                                                           \n",
       "операции с недвижимостью      9971   780  10751    0.072551        0.927449\n",
       "проведение свадьбы            2130   183   2313    0.079118        0.920882\n",
       "получение образования         3619   369   3988    0.092528        0.907472\n",
       "операции с автомобилем        3879   400   4279    0.093480        0.906520"
      ]
     },
     "execution_count": 84,
     "metadata": {},
     "output_type": "execute_result"
    }
   ],
   "source": [
    "debt_total  =debt_group['purpose_category'].count() #находим общее количество должников\n",
    "data_grouped=non_debt_group.groupby(['purpose_category']).agg({'debt':'count'}).rename(columns={'debt':'non_debt'})\n",
    "data_grouped['debt']=debt_group.groupby(['purpose_category']).agg({'debt':'count'})\n",
    "\n",
    "data_grouped['total']=data_grouped['debt']+data_grouped['non_debt']\n",
    "data_grouped['ratio_debt']=data_grouped['debt']/data_grouped['total']\n",
    "data_grouped['ratio_non_debt']=data_grouped['non_debt']/data_grouped['total']\n",
    "data_grouped=data_grouped.sort_values('ratio_debt')\n",
    "data_grouped"
   ]
  },
  {
   "cell_type": "markdown",
   "id": "04a2f045",
   "metadata": {
    "deletable": false,
    "id": "b4bb2ce6"
   },
   "source": [
    "**Вывод:** Чаще всего возвращают кредит вовремя когда берут его операций с недвижимостью - 92.7%, затем проведение свадьбы 92%, затем получение образование - 90.7%, и операции с автомобилем 90.6%"
   ]
  },
  {
   "cell_type": "markdown",
   "id": "2362fe89",
   "metadata": {
    "deletable": false,
    "editable": false,
    "id": "09c3ac4c"
   },
   "source": [
    "#### 3.5 Приведите возможные причины появления пропусков в исходных данных."
   ]
  },
  {
   "cell_type": "markdown",
   "id": "43b28fcc",
   "metadata": {
    "deletable": false,
    "id": "9da2ceda"
   },
   "source": [
    "*Ответ:* Человеческие ошибки при заполнении, переносе, копировании данных. Ошибки при объединении баз данных, в запросах."
   ]
  },
  {
   "cell_type": "markdown",
   "id": "af66224e",
   "metadata": {
    "deletable": false,
    "editable": false,
    "id": "7b0487d6"
   },
   "source": [
    "#### 3.6 Объясните, почему заполнить пропуски медианным значением — лучшее решение для количественных переменных."
   ]
  },
  {
   "cell_type": "markdown",
   "id": "9fe49ab6",
   "metadata": {
    "deletable": false,
    "id": "7ecf2b8e"
   },
   "source": [
    "*Ответ:* Для более полной картины при анализе. Чтобы сохранить массив данных, а не удалять строки."
   ]
  },
  {
   "cell_type": "markdown",
   "id": "531ec488",
   "metadata": {
    "deletable": false,
    "editable": false,
    "id": "6db5255a"
   },
   "source": [
    "### Шаг 4: общий вывод."
   ]
  },
  {
   "cell_type": "markdown",
   "id": "93cea7d9",
   "metadata": {
    "deletable": false,
    "id": "bad65432"
   },
   "source": [
    "Работа проведена. \n",
    "Судя по анализу, на вероятность возврата кредита в срок влияет количество детей, семейный статус, размер дохода и цели на которые берется кредит. Но общем, расхождения всё-таки не кажутся такими уж и значительными в разных категориях.\n",
    "\n",
    "Лучший заёмщик - бездетный вдова/вдовец с категорией дохода D, который берет его для операций с недвижимостью.\n",
    "Худший - неженатый/ не замужем с четырьмя детьми, категорией дохода Е, который берет его для операций с автомобилем.\n"
   ]
  },
  {
   "cell_type": "code",
   "execution_count": null,
   "id": "03253797",
   "metadata": {},
   "outputs": [],
   "source": []
  },
  {
   "cell_type": "code",
   "execution_count": null,
   "id": "b0776c93",
   "metadata": {},
   "outputs": [],
   "source": []
  }
 ],
 "metadata": {
  "ExecuteTimeLog": [
   {
    "duration": 49,
    "start_time": "2023-02-05T02:05:06.885Z"
   },
   {
    "duration": 466,
    "start_time": "2023-02-05T02:05:17.087Z"
   },
   {
    "duration": 26,
    "start_time": "2023-02-05T02:05:17.556Z"
   },
   {
    "duration": 17,
    "start_time": "2023-02-05T02:05:17.584Z"
   },
   {
    "duration": 28,
    "start_time": "2023-02-05T02:05:17.603Z"
   },
   {
    "duration": 36,
    "start_time": "2023-02-05T02:05:17.633Z"
   },
   {
    "duration": 3,
    "start_time": "2023-02-05T02:05:17.671Z"
   },
   {
    "duration": 11,
    "start_time": "2023-02-05T02:05:17.676Z"
   },
   {
    "duration": 4,
    "start_time": "2023-02-05T02:05:17.688Z"
   },
   {
    "duration": 33,
    "start_time": "2023-02-05T02:05:17.694Z"
   },
   {
    "duration": 5,
    "start_time": "2023-02-05T02:05:17.728Z"
   },
   {
    "duration": 39,
    "start_time": "2023-02-05T02:05:17.734Z"
   },
   {
    "duration": 11,
    "start_time": "2023-02-05T02:05:17.775Z"
   },
   {
    "duration": 5,
    "start_time": "2023-02-05T02:05:17.787Z"
   },
   {
    "duration": 12,
    "start_time": "2023-02-05T02:05:17.822Z"
   },
   {
    "duration": 29,
    "start_time": "2023-02-05T02:05:17.835Z"
   },
   {
    "duration": 18,
    "start_time": "2023-02-05T02:05:17.865Z"
   },
   {
    "duration": 4,
    "start_time": "2023-02-05T02:05:17.885Z"
   },
   {
    "duration": 35,
    "start_time": "2023-02-05T02:05:17.890Z"
   },
   {
    "duration": 6,
    "start_time": "2023-02-05T02:05:17.927Z"
   },
   {
    "duration": 3,
    "start_time": "2023-02-05T02:05:17.935Z"
   },
   {
    "duration": 11,
    "start_time": "2023-02-05T02:05:17.940Z"
   },
   {
    "duration": 18,
    "start_time": "2023-02-05T02:05:31.452Z"
   },
   {
    "duration": 25,
    "start_time": "2023-02-05T02:13:13.576Z"
   },
   {
    "duration": 32,
    "start_time": "2023-02-05T02:16:57.071Z"
   },
   {
    "duration": 7,
    "start_time": "2023-02-05T02:17:03.045Z"
   },
   {
    "duration": 7,
    "start_time": "2023-02-05T02:17:18.990Z"
   },
   {
    "duration": 22,
    "start_time": "2023-02-05T02:35:39.964Z"
   },
   {
    "duration": 7,
    "start_time": "2023-02-05T02:36:10.923Z"
   },
   {
    "duration": 12,
    "start_time": "2023-02-05T02:40:45.239Z"
   },
   {
    "duration": 5,
    "start_time": "2023-02-05T02:40:59.008Z"
   },
   {
    "duration": 6,
    "start_time": "2023-02-05T02:41:10.515Z"
   },
   {
    "duration": 11,
    "start_time": "2023-02-05T02:41:13.247Z"
   },
   {
    "duration": 8,
    "start_time": "2023-02-05T04:09:36.795Z"
   },
   {
    "duration": 11,
    "start_time": "2023-02-05T04:19:06.909Z"
   },
   {
    "duration": 14,
    "start_time": "2023-02-05T04:19:14.517Z"
   },
   {
    "duration": 51,
    "start_time": "2023-02-05T04:32:35.277Z"
   },
   {
    "duration": 15,
    "start_time": "2023-02-05T04:32:43.924Z"
   },
   {
    "duration": 8,
    "start_time": "2023-02-05T04:52:42.632Z"
   },
   {
    "duration": 1164,
    "start_time": "2023-02-05T05:00:35.540Z"
   },
   {
    "duration": 98,
    "start_time": "2023-02-05T05:00:44.884Z"
   },
   {
    "duration": 14,
    "start_time": "2023-02-05T05:08:22.456Z"
   },
   {
    "duration": 13,
    "start_time": "2023-02-05T05:16:08.131Z"
   },
   {
    "duration": 12,
    "start_time": "2023-02-05T05:53:27.292Z"
   },
   {
    "duration": 11,
    "start_time": "2023-02-05T08:29:30.040Z"
   },
   {
    "duration": 10,
    "start_time": "2023-02-05T08:30:35.333Z"
   },
   {
    "duration": 11,
    "start_time": "2023-02-05T08:30:54.677Z"
   },
   {
    "duration": 10,
    "start_time": "2023-02-05T08:32:50.556Z"
   },
   {
    "duration": 10,
    "start_time": "2023-02-05T08:33:03.755Z"
   },
   {
    "duration": 9,
    "start_time": "2023-02-05T08:33:09.468Z"
   },
   {
    "duration": 12,
    "start_time": "2023-02-05T08:34:54.802Z"
   },
   {
    "duration": 81,
    "start_time": "2023-02-05T08:35:01.045Z"
   },
   {
    "duration": 20,
    "start_time": "2023-02-05T08:35:01.129Z"
   },
   {
    "duration": 29,
    "start_time": "2023-02-05T08:35:01.151Z"
   },
   {
    "duration": 14,
    "start_time": "2023-02-05T08:35:01.182Z"
   },
   {
    "duration": 54,
    "start_time": "2023-02-05T08:35:01.198Z"
   },
   {
    "duration": 4,
    "start_time": "2023-02-05T08:35:01.254Z"
   },
   {
    "duration": 44,
    "start_time": "2023-02-05T08:35:01.260Z"
   },
   {
    "duration": 8,
    "start_time": "2023-02-05T08:35:01.306Z"
   },
   {
    "duration": 10,
    "start_time": "2023-02-05T08:35:01.316Z"
   },
   {
    "duration": 20,
    "start_time": "2023-02-05T08:35:01.329Z"
   },
   {
    "duration": 69,
    "start_time": "2023-02-05T08:35:01.351Z"
   },
   {
    "duration": 27,
    "start_time": "2023-02-05T08:35:01.422Z"
   },
   {
    "duration": 36,
    "start_time": "2023-02-05T08:35:01.451Z"
   },
   {
    "duration": 27,
    "start_time": "2023-02-05T08:35:01.489Z"
   },
   {
    "duration": 43,
    "start_time": "2023-02-05T08:35:01.518Z"
   },
   {
    "duration": 20,
    "start_time": "2023-02-05T08:35:01.563Z"
   },
   {
    "duration": 9,
    "start_time": "2023-02-05T08:35:01.585Z"
   },
   {
    "duration": 28,
    "start_time": "2023-02-05T08:35:01.596Z"
   },
   {
    "duration": 46,
    "start_time": "2023-02-05T08:35:01.626Z"
   },
   {
    "duration": 13,
    "start_time": "2023-02-05T08:35:01.674Z"
   },
   {
    "duration": 18,
    "start_time": "2023-02-05T08:35:01.688Z"
   },
   {
    "duration": 13,
    "start_time": "2023-02-05T08:35:02.905Z"
   },
   {
    "duration": 9,
    "start_time": "2023-02-05T08:35:20.601Z"
   },
   {
    "duration": 22,
    "start_time": "2023-02-05T08:35:29.658Z"
   },
   {
    "duration": 27,
    "start_time": "2023-02-05T08:36:53.654Z"
   },
   {
    "duration": 13,
    "start_time": "2023-02-05T08:37:00.041Z"
   },
   {
    "duration": 21,
    "start_time": "2023-02-05T08:39:03.288Z"
   },
   {
    "duration": 1330,
    "start_time": "2023-02-05T08:39:22.959Z"
   },
   {
    "duration": 1379,
    "start_time": "2023-02-05T08:41:24.046Z"
   },
   {
    "duration": 1290,
    "start_time": "2023-02-05T08:41:54.902Z"
   },
   {
    "duration": 1423,
    "start_time": "2023-02-05T08:42:04.318Z"
   },
   {
    "duration": 1400,
    "start_time": "2023-02-05T08:46:54.133Z"
   },
   {
    "duration": 1270,
    "start_time": "2023-02-05T08:47:25.140Z"
   },
   {
    "duration": 1251,
    "start_time": "2023-02-05T08:47:29.234Z"
   },
   {
    "duration": 1414,
    "start_time": "2023-02-05T08:47:38.226Z"
   },
   {
    "duration": 1333,
    "start_time": "2023-02-05T08:48:02.610Z"
   },
   {
    "duration": 73,
    "start_time": "2023-02-05T08:48:08.860Z"
   },
   {
    "duration": 14,
    "start_time": "2023-02-05T08:48:08.935Z"
   },
   {
    "duration": 27,
    "start_time": "2023-02-05T08:48:08.951Z"
   },
   {
    "duration": 19,
    "start_time": "2023-02-05T08:48:08.981Z"
   },
   {
    "duration": 58,
    "start_time": "2023-02-05T08:48:09.001Z"
   },
   {
    "duration": 4,
    "start_time": "2023-02-05T08:48:09.060Z"
   },
   {
    "duration": 25,
    "start_time": "2023-02-05T08:48:09.065Z"
   },
   {
    "duration": 31,
    "start_time": "2023-02-05T08:48:09.092Z"
   },
   {
    "duration": 15,
    "start_time": "2023-02-05T08:48:09.125Z"
   },
   {
    "duration": 27,
    "start_time": "2023-02-05T08:48:09.143Z"
   },
   {
    "duration": 43,
    "start_time": "2023-02-05T08:48:09.172Z"
   },
   {
    "duration": 10,
    "start_time": "2023-02-05T08:48:09.217Z"
   },
   {
    "duration": 14,
    "start_time": "2023-02-05T08:48:09.229Z"
   },
   {
    "duration": 21,
    "start_time": "2023-02-05T08:48:09.245Z"
   },
   {
    "duration": 36,
    "start_time": "2023-02-05T08:48:09.268Z"
   },
   {
    "duration": 19,
    "start_time": "2023-02-05T08:48:09.305Z"
   },
   {
    "duration": 8,
    "start_time": "2023-02-05T08:48:09.326Z"
   },
   {
    "duration": 27,
    "start_time": "2023-02-05T08:48:09.335Z"
   },
   {
    "duration": 19,
    "start_time": "2023-02-05T08:48:09.364Z"
   },
   {
    "duration": 21,
    "start_time": "2023-02-05T08:48:09.385Z"
   },
   {
    "duration": 21,
    "start_time": "2023-02-05T08:48:09.408Z"
   },
   {
    "duration": 11,
    "start_time": "2023-02-05T08:48:17.234Z"
   },
   {
    "duration": 8,
    "start_time": "2023-02-05T08:48:24.273Z"
   },
   {
    "duration": 10,
    "start_time": "2023-02-05T08:49:22.386Z"
   },
   {
    "duration": 11,
    "start_time": "2023-02-05T08:49:26.880Z"
   },
   {
    "duration": 10,
    "start_time": "2023-02-05T08:49:29.369Z"
   },
   {
    "duration": 50,
    "start_time": "2023-02-05T08:50:49.497Z"
   },
   {
    "duration": 12,
    "start_time": "2023-02-05T08:50:56.684Z"
   },
   {
    "duration": 45,
    "start_time": "2023-02-05T08:51:04.368Z"
   },
   {
    "duration": 18,
    "start_time": "2023-02-05T08:51:17.188Z"
   },
   {
    "duration": 14,
    "start_time": "2023-02-05T08:51:54.216Z"
   },
   {
    "duration": 13,
    "start_time": "2023-02-05T08:54:03.526Z"
   },
   {
    "duration": 12,
    "start_time": "2023-02-05T08:54:15.285Z"
   },
   {
    "duration": 11,
    "start_time": "2023-02-05T08:54:31.094Z"
   },
   {
    "duration": 11,
    "start_time": "2023-02-05T08:54:36.318Z"
   },
   {
    "duration": 10,
    "start_time": "2023-02-05T08:55:11.853Z"
   },
   {
    "duration": 10,
    "start_time": "2023-02-05T08:55:14.613Z"
   },
   {
    "duration": 8,
    "start_time": "2023-02-05T08:56:20.461Z"
   },
   {
    "duration": 7,
    "start_time": "2023-02-05T08:56:34.076Z"
   },
   {
    "duration": 43,
    "start_time": "2023-02-05T08:56:43.876Z"
   },
   {
    "duration": 8,
    "start_time": "2023-02-05T08:56:49.914Z"
   },
   {
    "duration": 14,
    "start_time": "2023-02-05T09:19:47.271Z"
   },
   {
    "duration": 13,
    "start_time": "2023-02-05T09:20:03.366Z"
   },
   {
    "duration": 9,
    "start_time": "2023-02-05T09:20:20.134Z"
   },
   {
    "duration": 11,
    "start_time": "2023-02-05T09:20:25.037Z"
   },
   {
    "duration": 11,
    "start_time": "2023-02-05T09:23:10.884Z"
   },
   {
    "duration": 7,
    "start_time": "2023-02-05T09:23:13.316Z"
   },
   {
    "duration": 13,
    "start_time": "2023-02-05T09:38:28.202Z"
   },
   {
    "duration": 6,
    "start_time": "2023-02-05T09:38:54.194Z"
   },
   {
    "duration": 8,
    "start_time": "2023-02-05T09:39:21.794Z"
   },
   {
    "duration": 9,
    "start_time": "2023-02-05T09:39:57.554Z"
   },
   {
    "duration": 10,
    "start_time": "2023-02-05T09:40:02.978Z"
   },
   {
    "duration": 20,
    "start_time": "2023-02-05T10:13:22.410Z"
   },
   {
    "duration": 5,
    "start_time": "2023-02-05T10:13:24.682Z"
   },
   {
    "duration": 5,
    "start_time": "2023-02-05T10:13:29.817Z"
   },
   {
    "duration": 14,
    "start_time": "2023-02-05T10:13:56.209Z"
   },
   {
    "duration": 3,
    "start_time": "2023-02-05T10:14:09.538Z"
   },
   {
    "duration": 4,
    "start_time": "2023-02-05T10:14:16.586Z"
   },
   {
    "duration": 6,
    "start_time": "2023-02-05T10:15:44.002Z"
   },
   {
    "duration": 9,
    "start_time": "2023-02-05T10:16:18.409Z"
   },
   {
    "duration": 10,
    "start_time": "2023-02-05T10:16:20.289Z"
   },
   {
    "duration": 8,
    "start_time": "2023-02-05T10:16:29.249Z"
   },
   {
    "duration": 11,
    "start_time": "2023-02-05T10:16:34.137Z"
   },
   {
    "duration": 6,
    "start_time": "2023-02-05T10:17:02.888Z"
   },
   {
    "duration": 6,
    "start_time": "2023-02-05T10:17:25.944Z"
   },
   {
    "duration": 8,
    "start_time": "2023-02-05T10:17:55.167Z"
   },
   {
    "duration": 9,
    "start_time": "2023-02-05T10:28:01.281Z"
   },
   {
    "duration": 3,
    "start_time": "2023-02-05T10:28:49.728Z"
   },
   {
    "duration": 6,
    "start_time": "2023-02-05T10:46:58.415Z"
   },
   {
    "duration": 6,
    "start_time": "2023-02-05T10:47:36.862Z"
   },
   {
    "duration": 8,
    "start_time": "2023-02-05T10:47:51.557Z"
   },
   {
    "duration": 51,
    "start_time": "2023-02-05T12:06:37.660Z"
   },
   {
    "duration": 467,
    "start_time": "2023-02-05T12:06:45.473Z"
   },
   {
    "duration": 21,
    "start_time": "2023-02-05T12:06:45.942Z"
   },
   {
    "duration": 14,
    "start_time": "2023-02-05T12:06:45.964Z"
   },
   {
    "duration": 9,
    "start_time": "2023-02-05T12:06:45.979Z"
   },
   {
    "duration": 47,
    "start_time": "2023-02-05T12:06:45.991Z"
   },
   {
    "duration": 4,
    "start_time": "2023-02-05T12:06:46.040Z"
   },
   {
    "duration": 9,
    "start_time": "2023-02-05T12:06:46.046Z"
   },
   {
    "duration": 4,
    "start_time": "2023-02-05T12:06:46.057Z"
   },
   {
    "duration": 9,
    "start_time": "2023-02-05T12:06:46.062Z"
   },
   {
    "duration": 4,
    "start_time": "2023-02-05T12:06:46.073Z"
   },
   {
    "duration": 76,
    "start_time": "2023-02-05T12:06:46.078Z"
   },
   {
    "duration": 8,
    "start_time": "2023-02-05T12:06:46.155Z"
   },
   {
    "duration": 5,
    "start_time": "2023-02-05T12:06:46.164Z"
   },
   {
    "duration": 13,
    "start_time": "2023-02-05T12:06:46.172Z"
   },
   {
    "duration": 38,
    "start_time": "2023-02-05T12:06:46.186Z"
   },
   {
    "duration": 16,
    "start_time": "2023-02-05T12:06:46.226Z"
   },
   {
    "duration": 3,
    "start_time": "2023-02-05T12:06:46.244Z"
   },
   {
    "duration": 13,
    "start_time": "2023-02-05T12:06:46.248Z"
   },
   {
    "duration": 6,
    "start_time": "2023-02-05T12:06:46.262Z"
   },
   {
    "duration": 5,
    "start_time": "2023-02-05T12:06:46.269Z"
   },
   {
    "duration": 11,
    "start_time": "2023-02-05T12:06:46.275Z"
   },
   {
    "duration": 25,
    "start_time": "2023-02-05T12:06:46.287Z"
   },
   {
    "duration": 15,
    "start_time": "2023-02-05T12:06:46.313Z"
   },
   {
    "duration": 2,
    "start_time": "2023-02-05T12:06:46.329Z"
   },
   {
    "duration": 6,
    "start_time": "2023-02-05T12:06:46.333Z"
   },
   {
    "duration": 6,
    "start_time": "2023-02-05T12:06:46.341Z"
   },
   {
    "duration": 7,
    "start_time": "2023-02-05T12:06:46.348Z"
   },
   {
    "duration": 8,
    "start_time": "2023-02-05T12:06:46.357Z"
   },
   {
    "duration": 6,
    "start_time": "2023-02-05T12:06:54.328Z"
   },
   {
    "duration": 7,
    "start_time": "2023-02-05T12:06:56.453Z"
   },
   {
    "duration": 46,
    "start_time": "2023-02-06T01:18:45.431Z"
   },
   {
    "duration": 554,
    "start_time": "2023-02-06T01:18:51.993Z"
   },
   {
    "duration": 21,
    "start_time": "2023-02-06T01:18:52.549Z"
   },
   {
    "duration": 15,
    "start_time": "2023-02-06T01:18:52.572Z"
   },
   {
    "duration": 9,
    "start_time": "2023-02-06T01:18:52.589Z"
   },
   {
    "duration": 32,
    "start_time": "2023-02-06T01:18:52.600Z"
   },
   {
    "duration": 3,
    "start_time": "2023-02-06T01:18:52.634Z"
   },
   {
    "duration": 15,
    "start_time": "2023-02-06T01:18:52.638Z"
   },
   {
    "duration": 5,
    "start_time": "2023-02-06T01:18:52.655Z"
   },
   {
    "duration": 13,
    "start_time": "2023-02-06T01:18:52.661Z"
   },
   {
    "duration": 20,
    "start_time": "2023-02-06T01:18:52.676Z"
   },
   {
    "duration": 36,
    "start_time": "2023-02-06T01:18:52.698Z"
   },
   {
    "duration": 9,
    "start_time": "2023-02-06T01:18:52.736Z"
   },
   {
    "duration": 4,
    "start_time": "2023-02-06T01:18:52.747Z"
   },
   {
    "duration": 13,
    "start_time": "2023-02-06T01:18:52.753Z"
   },
   {
    "duration": 42,
    "start_time": "2023-02-06T01:18:52.768Z"
   },
   {
    "duration": 19,
    "start_time": "2023-02-06T01:18:52.811Z"
   },
   {
    "duration": 3,
    "start_time": "2023-02-06T01:18:52.832Z"
   },
   {
    "duration": 15,
    "start_time": "2023-02-06T01:18:52.837Z"
   },
   {
    "duration": 11,
    "start_time": "2023-02-06T01:18:52.853Z"
   },
   {
    "duration": 5,
    "start_time": "2023-02-06T01:18:52.866Z"
   },
   {
    "duration": 7,
    "start_time": "2023-02-06T01:18:52.894Z"
   },
   {
    "duration": 35,
    "start_time": "2023-02-06T01:18:53.661Z"
   },
   {
    "duration": 11,
    "start_time": "2023-02-06T01:19:13.030Z"
   },
   {
    "duration": 10,
    "start_time": "2023-02-06T01:19:32.629Z"
   },
   {
    "duration": 7,
    "start_time": "2023-02-06T01:24:36.945Z"
   },
   {
    "duration": 7,
    "start_time": "2023-02-06T01:24:42.073Z"
   },
   {
    "duration": 10,
    "start_time": "2023-02-06T01:24:44.105Z"
   },
   {
    "duration": 9,
    "start_time": "2023-02-06T01:24:47.801Z"
   },
   {
    "duration": 7,
    "start_time": "2023-02-06T01:24:50.177Z"
   },
   {
    "duration": 6,
    "start_time": "2023-02-06T01:25:13.178Z"
   },
   {
    "duration": 6,
    "start_time": "2023-02-06T01:27:56.409Z"
   },
   {
    "duration": 5,
    "start_time": "2023-02-06T01:30:00.078Z"
   },
   {
    "duration": 5,
    "start_time": "2023-02-06T01:30:35.950Z"
   },
   {
    "duration": 8,
    "start_time": "2023-02-06T01:31:02.726Z"
   },
   {
    "duration": 6,
    "start_time": "2023-02-06T01:31:07.310Z"
   },
   {
    "duration": 9,
    "start_time": "2023-02-06T01:31:11.871Z"
   },
   {
    "duration": 6,
    "start_time": "2023-02-06T02:00:26.804Z"
   },
   {
    "duration": 9,
    "start_time": "2023-02-06T02:00:54.083Z"
   },
   {
    "duration": 5,
    "start_time": "2023-02-06T02:01:08.307Z"
   }
  ],
  "colab": {
   "name": "dpp_template_part2.ipynb",
   "provenance": []
  },
  "kernelspec": {
   "display_name": "Python 3 (ipykernel)",
   "language": "python",
   "name": "python3"
  },
  "language_info": {
   "codemirror_mode": {
    "name": "ipython",
    "version": 3
   },
   "file_extension": ".py",
   "mimetype": "text/x-python",
   "name": "python",
   "nbconvert_exporter": "python",
   "pygments_lexer": "ipython3",
   "version": "3.9.13"
  },
  "toc": {
   "base_numbering": 1,
   "nav_menu": {},
   "number_sections": true,
   "sideBar": true,
   "skip_h1_title": true,
   "title_cell": "Table of Contents",
   "title_sidebar": "Contents",
   "toc_cell": false,
   "toc_position": {},
   "toc_section_display": true,
   "toc_window_display": false
  }
 },
 "nbformat": 4,
 "nbformat_minor": 5
}
