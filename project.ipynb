{
 "cells": [
  {
   "cell_type": "code",
   "execution_count": 1,
   "id": "fcf34e32",
   "metadata": {},
   "outputs": [
    {
     "data": {
      "text/plain": [
       "117"
      ]
     },
     "execution_count": 1,
     "metadata": {},
     "output_type": "execute_result"
    }
   ],
   "source": [
    "45+72"
   ]
  },
  {
   "cell_type": "code",
   "execution_count": 2,
   "id": "745bdcc2",
   "metadata": {},
   "outputs": [],
   "source": [
    "x=7"
   ]
  },
  {
   "cell_type": "code",
   "execution_count": 3,
   "id": "ceae3802",
   "metadata": {},
   "outputs": [],
   "source": [
    "y=3"
   ]
  },
  {
   "cell_type": "code",
   "execution_count": 4,
   "id": "c5710d04",
   "metadata": {},
   "outputs": [
    {
     "data": {
      "text/plain": [
       "10"
      ]
     },
     "execution_count": 4,
     "metadata": {},
     "output_type": "execute_result"
    }
   ],
   "source": [
    "x+y"
   ]
  },
  {
   "cell_type": "code",
   "execution_count": 5,
   "id": "33b59c88",
   "metadata": {},
   "outputs": [
    {
     "ename": "SyntaxError",
     "evalue": "invalid syntax (2110782429.py, line 1)",
     "output_type": "error",
     "traceback": [
      "\u001b[1;36m  Input \u001b[1;32mIn [5]\u001b[1;36m\u001b[0m\n\u001b[1;33m    type(x) int\u001b[0m\n\u001b[1;37m            ^\u001b[0m\n\u001b[1;31mSyntaxError\u001b[0m\u001b[1;31m:\u001b[0m invalid syntax\n"
     ]
    }
   ],
   "source": [
    "type(x) int"
   ]
  },
  {
   "cell_type": "code",
   "execution_count": 6,
   "id": "ef31c24f",
   "metadata": {},
   "outputs": [
    {
     "data": {
      "text/plain": [
       "int"
      ]
     },
     "execution_count": 6,
     "metadata": {},
     "output_type": "execute_result"
    }
   ],
   "source": [
    "type(x)"
   ]
  },
  {
   "cell_type": "code",
   "execution_count": 7,
   "id": "d5143858",
   "metadata": {},
   "outputs": [
    {
     "data": {
      "text/plain": [
       "float"
      ]
     },
     "execution_count": 7,
     "metadata": {},
     "output_type": "execute_result"
    }
   ],
   "source": [
    "type(10.5)"
   ]
  },
  {
   "cell_type": "code",
   "execution_count": 8,
   "id": "c29259d5",
   "metadata": {},
   "outputs": [
    {
     "name": "stdout",
     "output_type": "stream",
     "text": [
      "Welcome to Python!\n"
     ]
    }
   ],
   "source": [
    "print('Welcome', 'to', 'Python!')"
   ]
  },
  {
   "cell_type": "code",
   "execution_count": 9,
   "id": "b6a533e3",
   "metadata": {},
   "outputs": [
    {
     "name": "stdout",
     "output_type": "stream",
     "text": [
      "What's your name?Alex\n"
     ]
    }
   ],
   "source": [
    "name = input(\"What's your NO_name?\")"
   ]
  },
  {
   "cell_type": "markdown",
   "id": "604a37af",
   "metadata": {},
   "source": []
  },
  {
   "cell_type": "code",
   "execution_count": 10,
   "id": "334b385b",
   "metadata": {},
   "outputs": [
    {
     "data": {
      "text/plain": [
       "'Alex'"
      ]
     },
     "execution_count": 10,
     "metadata": {},
     "output_type": "execute_result"
    }
   ],
   "source": [
    "name"
   ]
  },
  {
   "cell_type": "code",
   "execution_count": 11,
   "id": "fe47870b",
   "metadata": {},
   "outputs": [],
   "source": [
    "import math"
   ]
  },
  {
   "cell_type": "code",
   "execution_count": 12,
   "id": "74094b86",
   "metadata": {},
   "outputs": [
    {
     "data": {
      "text/plain": [
       "30.0"
      ]
     },
     "execution_count": 12,
     "metadata": {},
     "output_type": "execute_result"
    }
   ],
   "source": [
    "math.sqrt(900)"
   ]
  },
  {
   "cell_type": "code",
   "execution_count": 13,
   "id": "5e55dea3",
   "metadata": {},
   "outputs": [
    {
     "data": {
      "text/plain": [
       "10.0"
      ]
     },
     "execution_count": 13,
     "metadata": {},
     "output_type": "execute_result"
    }
   ],
   "source": [
    "math.fabs(-10)"
   ]
  },
  {
   "cell_type": "code",
   "execution_count": 14,
   "id": "82c865b0",
   "metadata": {},
   "outputs": [],
   "source": [
    "math.atan2?"
   ]
  },
  {
   "cell_type": "code",
   "execution_count": 15,
   "id": "e694027d",
   "metadata": {},
   "outputs": [
    {
     "ename": "IndentationError",
     "evalue": "expected an indented block (1354672155.py, line 1)",
     "output_type": "error",
     "traceback": [
      "\u001b[1;36m  Input \u001b[1;32mIn [15]\u001b[1;36m\u001b[0m\n\u001b[1;33m    def rectangle_area(length=2, width=3):\u001b[0m\n\u001b[1;37m                                          ^\u001b[0m\n\u001b[1;31mIndentationError\u001b[0m\u001b[1;31m:\u001b[0m expected an indented block\n"
     ]
    }
   ],
   "source": [
    "def rectangle_area(length=2, width=3):"
   ]
  },
  {
   "cell_type": "code",
   "execution_count": 16,
   "id": "0db33a68",
   "metadata": {},
   "outputs": [
    {
     "ename": "IndentationError",
     "evalue": "expected an indented block (3639915112.py, line 1)",
     "output_type": "error",
     "traceback": [
      "\u001b[1;36m  Input \u001b[1;32mIn [16]\u001b[1;36m\u001b[0m\n\u001b[1;33m    def rectangle_area (length=2, width=3):\u001b[0m\n\u001b[1;37m                                           ^\u001b[0m\n\u001b[1;31mIndentationError\u001b[0m\u001b[1;31m:\u001b[0m expected an indented block\n"
     ]
    }
   ],
   "source": [
    "def rectangle_area (length=2, width=3):"
   ]
  },
  {
   "cell_type": "code",
   "execution_count": 17,
   "id": "41f6ce73",
   "metadata": {},
   "outputs": [
    {
     "ename": "IndentationError",
     "evalue": "expected an indented block (1354672155.py, line 1)",
     "output_type": "error",
     "traceback": [
      "\u001b[1;36m  Input \u001b[1;32mIn [17]\u001b[1;36m\u001b[0m\n\u001b[1;33m    def rectangle_area(length=2, width=3):\u001b[0m\n\u001b[1;37m                                          ^\u001b[0m\n\u001b[1;31mIndentationError\u001b[0m\u001b[1;31m:\u001b[0m expected an indented block\n"
     ]
    }
   ],
   "source": [
    "def rectangle_area(length=2, width=3):"
   ]
  },
  {
   "cell_type": "code",
   "execution_count": 18,
   "id": "116fe2e3",
   "metadata": {},
   "outputs": [
    {
     "ename": "SyntaxError",
     "evalue": "invalid syntax (4080160223.py, line 1)",
     "output_type": "error",
     "traceback": [
      "\u001b[1;36m  Input \u001b[1;32mIn [18]\u001b[1;36m\u001b[0m\n\u001b[1;33m    def rectangle_area(length=2, width=3)\u001b[0m\n\u001b[1;37m                                         ^\u001b[0m\n\u001b[1;31mSyntaxError\u001b[0m\u001b[1;31m:\u001b[0m invalid syntax\n"
     ]
    }
   ],
   "source": [
    "def rectangle_area(length=2, width=3)"
   ]
  },
  {
   "cell_type": "code",
   "execution_count": 19,
   "id": "4368731a",
   "metadata": {},
   "outputs": [
    {
     "ename": "IndentationError",
     "evalue": "expected an indented block (2143806547.py, line 1)",
     "output_type": "error",
     "traceback": [
      "\u001b[1;36m  Input \u001b[1;32mIn [19]\u001b[1;36m\u001b[0m\n\u001b[1;33m    def rectangle_area(length=2, width=3) :\u001b[0m\n\u001b[1;37m                                           ^\u001b[0m\n\u001b[1;31mIndentationError\u001b[0m\u001b[1;31m:\u001b[0m expected an indented block\n"
     ]
    }
   ],
   "source": [
    "def rectangle_area(length=2, width=3) :"
   ]
  },
  {
   "cell_type": "code",
   "execution_count": 20,
   "id": "a43f08dd",
   "metadata": {},
   "outputs": [
    {
     "ename": "SyntaxError",
     "evalue": "invalid syntax (4080160223.py, line 1)",
     "output_type": "error",
     "traceback": [
      "\u001b[1;36m  Input \u001b[1;32mIn [20]\u001b[1;36m\u001b[0m\n\u001b[1;33m    def rectangle_area(length=2, width=3)\u001b[0m\n\u001b[1;37m                                         ^\u001b[0m\n\u001b[1;31mSyntaxError\u001b[0m\u001b[1;31m:\u001b[0m invalid syntax\n"
     ]
    }
   ],
   "source": [
    "def rectangle_area(length=2, width=3)"
   ]
  },
  {
   "cell_type": "code",
   "execution_count": 21,
   "id": "ca25dde3",
   "metadata": {},
   "outputs": [],
   "source": [
    "def rectangle_area(length=2, width=3):\n",
    "    return length*width"
   ]
  },
  {
   "cell_type": "code",
   "execution_count": 22,
   "id": "e1038fb0",
   "metadata": {},
   "outputs": [
    {
     "data": {
      "text/plain": [
       "6"
      ]
     },
     "execution_count": 22,
     "metadata": {},
     "output_type": "execute_result"
    }
   ],
   "source": [
    "rectangle_area()"
   ]
  },
  {
   "cell_type": "code",
   "execution_count": 23,
   "id": "bf7ee7d4",
   "metadata": {},
   "outputs": [
    {
     "ename": "SyntaxError",
     "evalue": "invalid syntax (2795136886.py, line 1)",
     "output_type": "error",
     "traceback": [
      "\u001b[1;36m  Input \u001b[1;32mIn [23]\u001b[1;36m\u001b[0m\n\u001b[1;33m    def calculate_product(*args)\u001b[0m\n\u001b[1;37m                                ^\u001b[0m\n\u001b[1;31mSyntaxError\u001b[0m\u001b[1;31m:\u001b[0m invalid syntax\n"
     ]
    }
   ],
   "source": [
    "def calculate_product(*args)\n",
    "    product = 1\n",
    "    for value in args:\n",
    "        product *=value\n",
    "        return product"
   ]
  },
  {
   "cell_type": "code",
   "execution_count": 24,
   "id": "daa80f52",
   "metadata": {},
   "outputs": [],
   "source": [
    "def calculate_product(*args):\n",
    "\n",
    "    product = 1\n",
    "    for value in args:\n",
    "        product *=value\n",
    "        return product"
   ]
  },
  {
   "cell_type": "code",
   "execution_count": 25,
   "id": "ba0d792a",
   "metadata": {},
   "outputs": [
    {
     "data": {
      "text/plain": [
       "10"
      ]
     },
     "execution_count": 25,
     "metadata": {},
     "output_type": "execute_result"
    }
   ],
   "source": [
    "calculate_product(10,20,30)"
   ]
  },
  {
   "cell_type": "code",
   "execution_count": 26,
   "id": "f51e5587",
   "metadata": {},
   "outputs": [
    {
     "data": {
      "text/plain": [
       "10"
      ]
     },
     "execution_count": 26,
     "metadata": {},
     "output_type": "execute_result"
    }
   ],
   "source": [
    "calculate_product(10, 20, 30)"
   ]
  },
  {
   "cell_type": "code",
   "execution_count": 27,
   "id": "cb8ff9f2",
   "metadata": {},
   "outputs": [],
   "source": [
    "def calculate_product(*args):\n",
    "\n",
    "    product = 1\n",
    "    for value in args:\n",
    "        product *= value\n",
    "        return product"
   ]
  },
  {
   "cell_type": "code",
   "execution_count": 28,
   "id": "11539206",
   "metadata": {},
   "outputs": [
    {
     "data": {
      "text/plain": [
       "10"
      ]
     },
     "execution_count": 28,
     "metadata": {},
     "output_type": "execute_result"
    }
   ],
   "source": [
    "calculate_product(10, 20, 30)"
   ]
  },
  {
   "cell_type": "code",
   "execution_count": 29,
   "id": "088b87f3",
   "metadata": {},
   "outputs": [
    {
     "data": {
      "text/plain": [
       "1"
      ]
     },
     "execution_count": 29,
     "metadata": {},
     "output_type": "execute_result"
    }
   ],
   "source": [
    "calculate_product(*range(1,6,2))"
   ]
  },
  {
   "cell_type": "code",
   "execution_count": 30,
   "id": "ca63f5e9",
   "metadata": {},
   "outputs": [
    {
     "data": {
      "text/plain": [
       "10"
      ]
     },
     "execution_count": 30,
     "metadata": {},
     "output_type": "execute_result"
    }
   ],
   "source": [
    "calculate_product(10)"
   ]
  },
  {
   "cell_type": "code",
   "execution_count": 31,
   "id": "a1a02c22",
   "metadata": {},
   "outputs": [
    {
     "data": {
      "text/plain": [
       "20"
      ]
     },
     "execution_count": 31,
     "metadata": {},
     "output_type": "execute_result"
    }
   ],
   "source": [
    "calculate_product(20)"
   ]
  },
  {
   "cell_type": "code",
   "execution_count": 32,
   "id": "b40dc9f6",
   "metadata": {},
   "outputs": [
    {
     "data": {
      "text/plain": [
       "20"
      ]
     },
     "execution_count": 32,
     "metadata": {},
     "output_type": "execute_result"
    }
   ],
   "source": [
    "calculate_product(20, 30)"
   ]
  },
  {
   "cell_type": "code",
   "execution_count": 33,
   "id": "0bdb0e1b",
   "metadata": {},
   "outputs": [
    {
     "data": {
      "text/plain": [
       "40"
      ]
     },
     "execution_count": 33,
     "metadata": {},
     "output_type": "execute_result"
    }
   ],
   "source": [
    "calculate_product(40, 20, 30)"
   ]
  },
  {
   "cell_type": "code",
   "execution_count": 34,
   "id": "60a020c0",
   "metadata": {},
   "outputs": [],
   "source": [
    "def calculate_product(*args):\n",
    "\n",
    "    product = 2\n",
    "    for value in args:\n",
    "        product *= value\n",
    "        return product"
   ]
  },
  {
   "cell_type": "code",
   "execution_count": 35,
   "id": "731dd8b0",
   "metadata": {},
   "outputs": [
    {
     "data": {
      "text/plain": [
       "80"
      ]
     },
     "execution_count": 35,
     "metadata": {},
     "output_type": "execute_result"
    }
   ],
   "source": [
    "calculate_product(40, 20, 30)"
   ]
  },
  {
   "cell_type": "code",
   "execution_count": 36,
   "id": "3fa0577f",
   "metadata": {},
   "outputs": [
    {
     "data": {
      "text/plain": [
       "20"
      ]
     },
     "execution_count": 36,
     "metadata": {},
     "output_type": "execute_result"
    }
   ],
   "source": [
    "calculate_product(10, 20, 30)"
   ]
  },
  {
   "cell_type": "code",
   "execution_count": 37,
   "id": "00b51730",
   "metadata": {},
   "outputs": [],
   "source": [
    "import numpy as np\n",
    "from sklearn.preprocessing import MinMaxScaler\n",
    "import matplotlib.pyplot as plt"
   ]
  },
  {
   "cell_type": "code",
   "execution_count": 38,
   "id": "bd02b25d",
   "metadata": {},
   "outputs": [
    {
     "ename": "NameError",
     "evalue": "name 'args' is not defined",
     "output_type": "error",
     "traceback": [
      "\u001b[1;31m---------------------------------------------------------------------------\u001b[0m",
      "\u001b[1;31mNameError\u001b[0m                                 Traceback (most recent call last)",
      "Input \u001b[1;32mIn [38]\u001b[0m, in \u001b[0;36m<cell line: 1>\u001b[1;34m()\u001b[0m\n\u001b[1;32m----> 1\u001b[0m \u001b[43margs\u001b[49m\n",
      "\u001b[1;31mNameError\u001b[0m: name 'args' is not defined"
     ]
    }
   ],
   "source": [
    "args"
   ]
  },
  {
   "cell_type": "code",
   "execution_count": 39,
   "id": "d2d869e9",
   "metadata": {},
   "outputs": [
    {
     "ename": "SyntaxError",
     "evalue": "can't use starred expression here (3345456506.py, line 1)",
     "output_type": "error",
     "traceback": [
      "\u001b[1;36m  Input \u001b[1;32mIn [39]\u001b[1;36m\u001b[0m\n\u001b[1;33m    *args\u001b[0m\n\u001b[1;37m    ^\u001b[0m\n\u001b[1;31mSyntaxError\u001b[0m\u001b[1;31m:\u001b[0m can't use starred expression here\n"
     ]
    }
   ],
   "source": [
    "*args"
   ]
  },
  {
   "cell_type": "code",
   "execution_count": 40,
   "id": "9d5b7ccd",
   "metadata": {},
   "outputs": [
    {
     "data": {
      "text/plain": [
       "20"
      ]
     },
     "execution_count": 40,
     "metadata": {},
     "output_type": "execute_result"
    }
   ],
   "source": [
    "calculate_product(10, 20, 30)"
   ]
  },
  {
   "cell_type": "code",
   "execution_count": 41,
   "id": "3ac264df",
   "metadata": {},
   "outputs": [],
   "source": [
    "def calculate_product(*args):\n",
    "    product = 1\n",
    "    for value in args:\n",
    "        product *=value\n",
    "    return product"
   ]
  },
  {
   "cell_type": "code",
   "execution_count": 42,
   "id": "38ceb2c7",
   "metadata": {},
   "outputs": [
    {
     "data": {
      "text/plain": [
       "6000"
      ]
     },
     "execution_count": 42,
     "metadata": {},
     "output_type": "execute_result"
    }
   ],
   "source": [
    "calculate_product(10, 20, 30)"
   ]
  },
  {
   "cell_type": "code",
   "execution_count": null,
   "id": "9bb18c58",
   "metadata": {},
   "outputs": [],
   "source": []
  }
 ],
 "metadata": {
  "kernelspec": {
   "display_name": "Python 3 (ipykernel)",
   "language": "python",
   "name": "python3"
  },
  "language_info": {
   "codemirror_mode": {
    "name": "ipython",
    "version": 3
   },
   "file_extension": ".py",
   "mimetype": "text/x-python",
   "name": "python",
   "nbconvert_exporter": "python",
   "pygments_lexer": "ipython3",
   "version": "3.9.12"
  }
 },
 "nbformat": 4,
 "nbformat_minor": 5
}
